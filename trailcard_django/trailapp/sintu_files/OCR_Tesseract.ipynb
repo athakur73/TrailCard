{
 "cells": [
  {
   "cell_type": "code",
   "execution_count": 1,
   "id": "06238f77",
   "metadata": {},
   "outputs": [],
   "source": [
    "import pytesseract\n",
    "from PIL import Image\n",
    "import re"
   ]
  },
  {
   "cell_type": "code",
   "execution_count": 15,
   "id": "a5169e10",
   "metadata": {},
   "outputs": [
    {
     "data": {
      "text/plain": [
       "'\\nPatient First Name: William\\nPatient Last Name: Hicks\\nRx#: 210280140357\\nDrug Name: INVOKANA TABS\\nNDC: 50458-0141-90\\nFilled date: 09/16/2021\\nDay supply: \\nQuantity: 90\\nAmount:\\nPrimary Paid Amount:\\nCopay: $120.00\\n'"
      ]
     },
     "execution_count": 15,
     "metadata": {},
     "output_type": "execute_result"
    }
   ],
   "source": [
    "'''\n",
    "Patient First Name: William\n",
    "Patient Last Name: Hicks\n",
    "Rx#: 210280140357\n",
    "Drug Name: INVOKANA TABS\n",
    "NDC: 50458-0141-90\n",
    "Filled date: 09/16/2021\n",
    "Day supply: \n",
    "Quantity: 90\n",
    "Amount:\n",
    "Primary Paid Amount:\n",
    "Copay: $120.00\n",
    "'''"
   ]
  },
  {
   "cell_type": "code",
   "execution_count": 30,
   "id": "ea2caced",
   "metadata": {},
   "outputs": [
    {
     "data": {
      "text/plain": [
       "str"
      ]
     },
     "execution_count": 30,
     "metadata": {},
     "output_type": "execute_result"
    }
   ],
   "source": [
    "pytesseract.pytesseract.tesseract_cmd = r'C:\\Program Files\\Tesseract-OCR\\tesseract.exe'\n",
    "text = pytesseract.image_to_string(Image.open('one.jpg'))\n",
    "type(text)"
   ]
  },
  {
   "cell_type": "code",
   "execution_count": 66,
   "id": "2121870a",
   "metadata": {},
   "outputs": [],
   "source": [
    "#print(text.replace('\\n',' ').split())"
   ]
  },
  {
   "cell_type": "code",
   "execution_count": null,
   "id": "bc558e2b",
   "metadata": {},
   "outputs": [],
   "source": [
    "#nameRegex = re.compile(r\"^[a-zA-Z]+[',. -][a-zA-Z ]?[a-zA-Z]*$\", re.MULTILINE)\n",
    "nameRegex = re.compile('^((?:\\w+\\s*){2,})$', flags=re.MULTILINE)\n",
    "\n",
    "print(nameRegex.findall(text15.replace('\\n',' ')))"
   ]
  },
  {
   "cell_type": "code",
   "execution_count": 65,
   "id": "73e608ac",
   "metadata": {},
   "outputs": [],
   "source": [
    "#re.findall(r\"[^()0-9-]+\", text15.replace('\\n',''))"
   ]
  },
  {
   "cell_type": "code",
   "execution_count": 64,
   "id": "18c1053d",
   "metadata": {},
   "outputs": [],
   "source": [
    "#text15.split('\\n')"
   ]
  },
  {
   "cell_type": "code",
   "execution_count": 57,
   "id": "bfdb9dda",
   "metadata": {},
   "outputs": [],
   "source": [
    "#re.findall(r\"[^()0-9-]+\", ''.join(res))"
   ]
  },
  {
   "cell_type": "code",
   "execution_count": 3,
   "id": "20d537a2",
   "metadata": {},
   "outputs": [],
   "source": [
    "import nltk\n",
    "from nltk.corpus import stopwords\n",
    "import pytesseract\n",
    "from PIL import Image\n",
    "import re\n",
    "import os\n",
    "\n",
    "pytesseract.pytesseract.tesseract_cmd = r'C:\\Program Files\\Tesseract-OCR\\tesseract.exe'\n",
    "\n",
    "stopwords = stopwords.words('english')\n",
    "path = r\"docs\"\n",
    "dir_list = os.listdir(path)\n",
    "\n",
    "\n",
    "data = dict()\n",
    "for file in dir_list:\n",
    "    mx = ''\n",
    "    mx = pytesseract.image_to_string(Image.open(path+'\\\\'+file))\n",
    "    mx = mx.replace('\\n\\n',' ')\n",
    "    mx = mx.replace('\\n',' ')\n",
    "    res = []\n",
    "    for x in mx.split():\n",
    "        st = ' '.join([w for w in x.split() if w not in stopwords])\n",
    "        res.append(st)\n",
    "    data[file.split('.')[0]] = ' '.join(res)"
   ]
  },
  {
   "cell_type": "code",
   "execution_count": 4,
   "id": "8fc383bb",
   "metadata": {},
   "outputs": [
    {
     "data": {
      "text/plain": [
       "{'1': 'AUV RRO HURRNUAURATRAARMAD . . 000002895549789901 W CVS caremark~ Mail Service Invoice/Receipt Balance Due Upon Receipt A 7o 290603470 KATHLEEN A. MCGRAW sopebag [y D0 oty Mg b O  ] g0 840 VIRGINIA CIR NE CVs C k ATLANTA, GA 30306 PO Bo f%’é“gagsg San Antonio TX 78265-9539 ...................................................................................................................... Summary  order 000002895549789 Date: 11/03/2021 Days Total Benefit Co-Pay Su Dru Rx Cost Provider Paid Amount N TAB 20MG - $500.00%* / KATHLEEN A. MCGRAW, .I Rx# 132486481 90 EA 90 $1,415.59 $915.59 rma\\\\ edication Guide  additional info    use  drug  available online. Log    account  cli¢  \"Prescription History\"   \"Prescriptions\" tab. * FSA/HRA eligible health care expenses. Retain Invoice/Receipt   records. Written information   prescription   provided  you. Please read  information   take  medication. If    questions concerning  prescription,  pharmacist  available  normal business hours  answer  questions toll-free  1-844-443-4279. The Notice  Privacy Practices   found   web site   identification card   writing to: CVS CAREMARK, PO BOX 52072, PHOENIX, AZ 85072-2072. Shipping Charge $0.00 Total Cost   Order: $1,415.59 $1,415.59 $915.59 $500.00 Previous Account Balance $0.00 Payment Received   Order - $500.00 Balance Due Upon Receipt $0.00 A Balance Due may  reflect payments recently mailed separate   order. This document may contain references  brand-name prescription drugs   trademarks  registered Page 1 trademarks  pharmaceutical manufacturers    affiliated  us.',\n",
       " '11': \"——————_———_ﬁ All Savers' Polcy Number: 5400-025818 Altemate Funding | Health Plan 80840)971 1-81400-00 MemberiD: 62 Group Number: 908868 Member: ‘”E m&: - Payer ID: 81400 01 SANDRA HILER QOPTUMRx‘ Rx BIN: 610279 Rx PCN: 9999 Rx GRP: UGRI Copay: $25 Spec: $75 ER: $300 Uniteck desithcar Choice Effective Date: 12/01/2020 010 Administered  United HealthCare Services, Inc.\",\n",
       " '12': \"Promised{ 10/12/21,/11:00 PM = Prescription Information 'KRISTALOSE 20 GM Take 1 packet dissolved  4 ounces  water orally  daily IaR)1S & PHARMACY ADNICE Ses back   information Receipt & Refill Information CVS Pharmacy STORE#: 10886 7220 Blue Mound Road Fort Worth. TX 76131 KRISTALOSE 20 GM PACKET STORE TEL: (817) 847-7329 Rx: 610642 00 INSURANCE INFORMATION: AETNA 5. 17805 NDC: 66220-0729-30 QTY: 30 EA DAW: 0 CAP: Safety MFR PKG: Yes GR: RXT704 AUTHS: 212855663311820898 REFILL: O Refills MFR: CUMBERLAND PHAR PRSCBR: Alberto Flores DAYS SUPPLY: 30 DATE FILLED: 10/12/21 amountoue: $90.00 Notes   Pharmacy This medication   regularly stocked   pharmacy. To   Rx ready  time, please refill two business days  advance  need date. For  information please contact  pharmacy. @ CVS pharmacy” Sese P RETAIL PRICE:S300.99 (\",\n",
       " '13': \"Seawew PHARMACY E (s LOMBARDO, CHRISTOPHER (929)466-8520 2 ELMWOOD PARK DR APT 206 STATEN ISLAND NY 10314 58-0562-01 Dr. Ky1 S IIIII I [ Plan MEDDADV ** THANKYOU ** os Rx#:205106R Rf=:1 9282021 PH:GI (MEDDADV ) LOMBARDO, CHRISTOPHER2 ELMWOOD PAR.L DR APT 206 STATEN lSL =75 I:\\\\'\\\\’EGASLSI‘EN\\\\AL\\\\JI]'\\\\IG 458-0562-01 JAN: RX» 20‘1 06E:~ TENNAINT 11 VEARDO, CHRISTOPHER ISTCPHER X  v A oA SERRG I 'ﬂlﬁllll' O ~  lfl/ Seaview Pharmacy 1756 Hylan Blvd. Staten Island NY. Tel: (718)667-6777 rans. ction Trans#: 69691 Opr.: POS 1 !!!4\\\\-1 $2 17 1 1995423 $370 | 2051071 $3.70 Subtotal : §$87.65 Discount. £0.00 Tax g $0.00 Total Amount Due: $87.65 $87.65 $87.65 Change: $0.00 Refund. Unopened within 3 days  reclept Exchanges: Unopsned within 7 days  reclep’ THANKYOU FOR YQUR PATRONAGE  HAVE A NICE DAY Il Merchant # undefined Date Tue Octd 14:26.16 EOT 2021 Trans#. 69691 Gpr:POS American Express / ¢  G e e  | AGREE TO PAY ABOVE TOTAL AMOUNT ACCORDING TO CARD ISSUER AGREEMENT\",\n",
       " '14': \"qlliq!ﬁﬁﬁ Invoice  Receipt O |l\\\\[IIIIIMIIIMIIHN!I!IHIHIII  ,,,,,,,,,, P.0. Box 29061, Phoenix, AZ 85038-9061 WWW. all'uncerxwp com/home-delivery NABP #: 0320793 It  easy  quick  pay using  credit card either online  www.alliancerxwp.com/home-delivery   calling  automated telephone system 1-877-357-7463. Those  ore deaf  hard  hearing  call TTY 1-800-573-1833. Ship to: DANIEL ROMSTEDT Account Balance: $0.00 25712 S COBBLESTONE LN Invoice Number; TF1CCDET CHANNAHON, IL 60410-8620 Shipment Date: 9/13,/2021 Member ID;: ***2993 Prescription Items ROSUVASTATIN 20MG TABLETS GLENMARK 68462-0263-90 5 = IIIIIIIII NN ==IIIIIII 434576403397 INVOKAMET 50MG/500MG TABLETS 434577403397 JANSSEN 50458-0540-60 “FENOFIBRIC T35MG DR CAPSUL 434578403397 ALEMBIC 62332-0245-90 Additional medication In Process -  follow shortly C) Current Order: Less Amount Received: THANK YOU FOR YOUR PROMPT PAYMENT. Previous Balonce: Al credit cord charges  pending outhorization. Amount Due: - Please make  awore   hove  updates regording  drug allergies  health conditions  calling  customer service number  updating  profile online - Please contact  Customer Care Center af  phone number   presciption lobel   ore  urgent need   future orders  avoid  gop  medicafion theropy   questions  order status/deloys. <2018 Al ights esenved. 03/31/2018 . Page 1  1\",\n",
       " '15': \"Invoice Review  order. =z = Invoice number: 57-037634664 @ Plan member: WILLIAM HICKS Order process date: 09/16/2021 09-17-2021 INVOKANA TABS | I 10002861 ¥SESSE xpress Scripts Pharmacy Your payment summary information Cost   package Payment(s)/adjustment(s) applied Shipping Cost Total amount due $120.00 $-120.00 FREE $0.00 { Want  avoid  clutter    paperwork  comes   r;edicine? Now,   get rﬁbst   papers online! You'l get instant access   invoice, refill forms   key messages   medicine. To sign up,  go to: express-scripts.com/green. Medicationinformation ~ Whatyou need   next  ey ., Youpay WILLIAM HICKS You  1 refill(s)  01/21/2022. Refill  11/10/2021. For fastest refills, $ 120.00 INVOKANA TABS simply refill  express-scripts.com/rx. Or   call 800.340.8796. Strength: 300MG Qty: 90 Rk 210280140357  e NDC # 50458-014190 800.340.8796 24/7 access  pharmacists   ready  help    medications. express-scripts.com/rx First-time visitors please register. Have  ID #   recent prescription number handy. Allitems sold  Express Scripts Pharmacy  FSA eligible IIAS items. Payment notes « Amount charged   debit  credit card: $ 120.00. 3553547982000 RN RN RO AR AR\",\n",
       " '16': '9/16/21-JC wi1pw029842 Es¢press Scripts : Pharmac Invoice  Review  order  pay .y Al Your payment summary information  enclosed Payment Due options. — —— e : fp yh \" & $169.33 ost   package . M3TYO il Payment(s)/adjustment(s) applied Invoice number: 12-073441333 Shinpina Cost Plan member: BRIAN CARLEW Order process date: 09/27/2021 1000889679555 See  Payment Due page  payment methods Want  avoid  clutter    paperwork  comes   medicine? Now,   get    papers online! You\\'ll 0 get instant access   invoice, refill forms   key messages   medicine. To sign up,  go to: ~ express-scripts.com/green. Medication information \\' C T . Whatyou needtodonext - You pay CHERYL CARLEW You  2 refill(s)  05/24/2022. We  process  ship  next refill, $9.33 L-THYROXINE (SYNTHROID) TABS automatically.* (See message(s)  back   Rx #.) Strength: 88MCG Qty: 84 Rxi# 211810970212 NDC # 00074-6594-19 . BRIAN CARLEW You  3 refill(s)  08/16/2022. Refill  12/25/2021. For fastest refills, $ 160.00 INVOKANA TABS simply refill  express-scripts.com/rx. Or   call 800.455.6891  mail us  Strength: 300MG Qty: 90 enclosed Refill Slip  order form  payment. Rx# 212700722212 NDC # 50458-0141-90 * If  prescription  shipping address changes,   need  reschedule  cancel  order, contact us  least 48 hours   date   express-scripts.com/rx  800.455.6891. 800.455.6891 0 247 access  pharmacists   ready  help    medications. express-scripts.com/rx @ First-time visitors please register. Have  ID #   recent prescription number handy. All items sold  Express Scripts Pharmacy  FSA eligible IIAS items. L $0.00 FREE Total amount due $169.33 {',\n",
       " '17': \"» A Express Scripts’ Invoice Pharmacy Review  order. Your payment summary information Cost   package $597.38 : g ; Payment(s)/adjustment(s) applied $-597.38  SR Total amount due $0.00 Plan member: gQ_S_EPH HINNENKAMP Order process date: 09/26/2021 ) e — == Want  avoid  clutter    paperwork  comes   m;dib'inié? Now, yb_u  get    papers online! You'll @ get instant access   invoice, refill forms   key messages   medicine. To sign up,  go to: express-scripts.com/green. Medication information What  need   next You pay e . — el JOSEPH HINNENKAMP You  2 refill(s)  04/12/2022. Refill  11/24/2021. For fastest refills, < _$ 597.38 ( XALATAN OPTH SOLN 2.5ML) simply refill  express-scripts.com/rx. Or   call 800.224.1501. ) 9/16/21-JC ps2pwB00653 _ Strength: 0.005% Qty: 3 Rx# 211431421156 NDC # 00013-8303-04 @ 800.224.1501 Payment notes 24/7 access  pharmacists   ready  help    medications. express-scripts.com/rx First-time visitors please register. Have  ID #   recent prescription number handy. Allitems sold  Express Scripts Pharmacy  FSA eligible IIAS items. » Amount charged   debit  credit card: $ 597.38. \\\\()@Uﬂ € et  J Q‘&(:Y - H’/‘)’J M(N (38D LN NET gadeE w{:ﬁ/ [ #N CAIT @ ; Ar (260 g; ORD #: 0003555560963 Page 10of 2 e\",\n",
       " '18': 'Tor TiValTYs = Rex Y. Scorann Feb 3, 2073 TDR 57 %8%748010 WAITING Promised: 2/3/21, 11:29 AM | 53§23 BS|2@ g2 < # Scripts: 01 ;g§§§ BIZE : | BESEZ 5!\"  @ £35S @  g =3 77 g’:\\' infE ©F 57  = § =  _I% 27 1609816 000 004 00 0013517 | &8 §..§ F |ad 2\" 3 - | B3R =  5=38 . * N 3§~<_ Scarano, Vincent 5 5321 S.w. 16th Place. Cape Coral, FL = b z S DOB: 535 TEL: (781) 492-6857 g@ ] 8{} £ 3 - 3 2 @ % Prescription Information oL P ! S = INVELTYS 1% EYE DROP E » ‘ ! TOAQ 5 = ph S 5882 =2.¢3 @ \\'Q E Instill 1 drop   eyes twice  \\' gg = Mg j%g el day (use drops  4 days BwE = :UJ: =53 bl = | post-operatively) $285 B=i° S S0  g @ ortant Information B QE 8\\' .§ Q g . A - RER  using. | LB 0 o~ = | LSS e \\'Fortheeye. E  - Sea back  mere information |~ iEMOVE Soft contact lenses  using  drug. oS Reinsert  15 min. oI - If using  eye meds, wait  least 5 min. Before  I . applying. i33f cp23=88827%0 33 - Date opened 52—‘:%‘1, 65&:.%§§‘9_§3§5,% §.§  88585:7s87 z i: 183 33°m255238% 2|23 df Edg2efEfT g 53 Receipt & Refill Information e —- ]   rarmaes e [veCrveemve ] I Caps Corn. 7 33904 DROP A% 2 %9 % iz ¢ | | l 525 22 BE : ‘ STORE TEL: (239) 542-0512 ~- | \"8 2 8% g 5% | 816 0 DC: 71571-0121-28 DAW:0 | * £  @ é” Z R 1609 2 QrY:2.8 ML g1 gs 8 %8 INSURANCE INFORMATION: 3° @ 3 El EEPROGF . . 2 ) FEDERALEMPLOYEEPROGFEP cosssss | CAP: Safety MFR PKG: Yes g 3 =z REFILL: O Refills 1 MFR: KALA PHARMACEUT PRSCBR: Vinod Bhavnani DAYS SUPPLY: 14 | DATE FILLED: 2/3/21 14 \"SUIAW 1O 0 ONI4 O1HOd 0169 A \\'INVNAVHE BLi0e2Ev (622) TAL RETAIL PRICE:$329.99 ’ amountoue: $135.17 Notes   Pharmacyh  / Get important updates  help  stay  track   health. See back  details. ¥ CVS pharmacy” RERE OwveyY -',\n",
       " '19': 'oprum- NN INVOICE Invoice date: November 08, 2021 Account: 431380395 Amount due: $0.00 SAMUEL CASTANEDA Rfiource center 19141 W DENTON ST . Sign   specialty.optumrx.com to: ¢ Make  payment  place  order LITCHFIELD PARK AZ 853405746 Track or%g; e p ° e Update  contact information. ¢ Get secure video  live chat support [OR] 50 Call 1.855.427.4682 to: ¢ Ask questions   order ] ¢ Give us  health update (new medications, allergies) Order number 470381432-1 invoice details Drug number Description Cost ALCOHOL PREP PAD RUGBY™* day supply. See prescription label  refill information. $0.00 322690854 TREMFYA ONE-PRESS 100MG/ML 30 day supply. See prescription label  refill $175.00 information. Do Not Shake Obtain Medical Advice Before Taking Nonprescription Drugs. Some May Affect The Action Of This Medicine PLEASE READ Enclosed Patient Information Total charges  order: $175.00 Less payment received: XXXXXXXXXXXX3755 $175.00 Amount due: $0.00 This    bill. About  order Pharmacists    help Pharmacists  help  24 hours  day, 7 days  week. Call us   have: ® Medication questions ® Allergies ® Changes   health history,  health conditions ® Changes   medication routines, including over-the-counter  herbal products  take. Controlled prescription monitoring We send information  controlled substance prescriptions  prescription drug monitoring programs  state law requires. Access   information  limited  specific individuals  limited purposes  authorized  law. Easy open caps The orange medication bottle caps   changed  child resistant  easy open: 1.Remove  cap, press   turn counter clockwise. 2.Turn  cap upside   close tightly. Safe medication disposal Visit fda.gov. Go  Drugs > Resources   > Information  Consumers (Drugs) > Safe Disposal  Medicines',\n",
       " '2': 'RITE AID-2025 E WASHINGTON (909) 824-8299 2025 EAST WASHINGTON STREET Store DEA : BT5247665 COLTON, CA 92324-4704 APH : ATS Rx 05693 1372112 Date Filled : 11/15/2021 HOERBER, STEVEN (951) 892-5406 24617 CHIPPEWA TRL MORENO VALLEY, CA 92557 XARELTO 20 MG TABLET DAW: 0 NDC : 50458-0579-30 QTY: 30 DAYS SUPPLY : 30 MEDINA, CRYSTAL A MD 2 W. FERN AVE REDLANDS, CA 92373 REFILL 6 TIMES UNTIL 06/16/2022 CVS/CRMARK ADVANCE RX MANAGEMENT PCN ADV mqgomm,m Al HHIT YR g  ff;z}!;:f@‘ilf&i; Ji | \").3;,, h\"‘uﬂ gi & U&C: $649.99 PAY: $60.00 % MEDICATION WARNINGS',\n",
       " '20': 'CHICAGO IL 60674 IngenioRx Specialty Pharmacy P. O. Box 007293 Fz)( ™ Pharmacy DEA# BC3683580 NABP# 0591796 Fed Tax Id# 953382344 KELLY JESSEE Date 10/20/2021 40 BRIDGEWATER CT Patient HOWARD JESSEE RENO NV 89509 Patient # 7905466 Credit Card Receipt - This Is Not A Bill .Credlt Card Account e Cardholder e Authorlzat;gq_w\" VISA xxxxxxxxxxxx6682 KELLY JESSEE 019988 ’I‘{ansactlsvr.l_u%sg/_TLme*_lw19/202}4_91_55_AM e Dispense Disp Days | Rx/Reflll Item Form Strength NDC Number Date Qty Supply DAW Loyerosnmnspsimnes T S RS  A B A A A Al T, AR & S CosaoseR Ry B 1 6055796 4 ZYTIGA TARB S00MG 57894-0195-06 10/08/2021 60 30 1. 1 Rph 67F Physician ANGELO KANELLOS License No Claim Ref# 21281635778544   | | | ; \\\\ | | | | ! ! | | | |    |  | | | ! 1 ‘; 1  | Page 1  1 Amount Billed To vIisa 100.00 } ! PHONE ORDER - SIGNATURE ON FILE | | Verbal agreement  pay  amount according  card issuer agreement.  | (Merchant agreement  Credit Voucher). ‘ E This   credit card receipt  medications recently obtained  ; IngenioRx Specialty Pharmacy | Please call 1-833-255-0645     questions regarding  receipt. e AP A e e e  Services provided  IngenioRx, Inc. In Texas, services provided  Ingenio, Inc. This document contains references  brand-name prescription drugs   trademarks  registered trademarks  pharmaceutical manufacturers  affiliated  IngenioRx. 75-TMRX11086',\n",
       " '21': \"RopTumax 0 { \\\\ INVOICE Invoice date: October 11, 2021 Account: 415508424 Amount due: $0.00 .//‘—‘- PAUL C VIEYRA \\\\ Resource center ” 6565 S Rome St , ~ Sign   myuhc.com/rx to: AURORA CO 80015-7505 * Make  payment  place  order » * Check benefit information . L(ijdate  address [OR] g | Call 1.855.828.7718 to: ¢ Ask questions   order   pharmacy benefit * Give us  health update (new medications, allergies) Order number 464034767-1 invoice details Drug number Description — Cost 316721393 INVOKANA TAB 300MG 90 day supply',See prescription label  refill information. $200.00 L Warning: Do Not Use If You Are Breastfeeding. Consult Your Doctor Or Pharmacist. Obtain Medical Advice Before Taking Nonprescription Drugs. Some May Affect The Action Of This Medicine PLEASE READ Enclosed Patient Information —— Total charges  order: ~ $200.00 Less payment received: XXOXXXXXXXXXXX9172 ' $200.00 Amount due: . $0.00 This    bill. About  order Get less paper Sign    website   member ID card. Go   account,  Communication preferences  select Paperless. Exclusions may apply. Pharmacists    help Pharmacists  help  24 hours  day, 7 days  week. Call us   have: * Medication questions * Allergies ® Changes   health history,  health conditions ® Changes   medication routines, including over-the-counter  herbal products  take. Controlled prescription monitoring We send information  controlled substance prescriptions  prescription drug monitoring programs  state law requires. Access   information  limited  specific individuals  limited purposes  authorized  law. Easy open caps The orange medication bottle caps   changed  child resistant  easy open: 1.Remove  cap, press   turn counter clockwise. 2.Turn  cap upside   close tightly. Safe medication disposal Visit fda.gov. Go  Drugs > Resources   > Information  Consumers (Drugs) > Safe Disposal  Medicines\",\n",
       " '22': \"#3228 ‘ 5616 176TH ST g { PUYALLUp A 98375 | ’ W, SAFEWAY (253) 414.17.44 Rx #:6779352 REFILL Randie, Day g | RANDLES, Davig DOR: gm0y | w S Rapa  Ave Bz Tacmn'». WA Sagen Pheng: {2583) 2 13-18g3 S.EAHuLﬂ. NORMAN MD Fill Dags. 82283004 Involkan. oo MG TAB JANS NDC:50452.n4.4n ~- Thp. Qiy-dg Refils 7 2y MR - * saPas - h ¥ D&t aTy (._.,_;w ¥  T ¥ GiTte 15 &0} yeviow Shiong. Shaped, filim-coatey tablet imprin With CFZ  orte side  100.on   gige. v & COPAY: gan 74 Call vopr doc e fpe edical adh  T ) IS Yo FEROC ik, - » P - ” . : . #Hecis 1, 76 Lot §oR80 g 2378 136  s, W 1rrd e\",\n",
       " '23': \"From: 18772333839 Page: 2/4 Date: 11/5/2021 4:25:48 PM B LA A Express Scripts’ Invoice Review  order. Invoice number: 57-037767919 Order number: 0003554747703 Pian member: D NALDOZA Order process date: 09/22/2021 ™ — 8/18/21-C ps2pwB0085E _Medicatlon information Want  avoid  clutter    paperwork Pharmacy Your payment summary information Cost   package $846.13 Payment(s)/adjustment(s) applied $-846.13 ShippingCost ________FREE Total amount due $0.00 e  comes   medicine? Now,   get    papers online! You'll get instant access   invoice, refill forms express-scripts.com/green. RONALD NALDOZA lrangth: 100 Qty: 80 / Rt 211313189357 NDC # 00069-1540-68 What  need fo  next You  1 refill(s)  05/04/2022. We  process  ship  next refill, NORVASC TABS \\\\ automatically.*   key messages   medicine. To sign up,  go to: * If  prescription  shipping address changes,   need  reschedule  cancel  order, contact us  least 48 hours   date   www.express-seripts.comirx  866.470.2246. € ss6.4702245 2417 access  phamacists wio  ready  help    medications.   155 www.express-scripts.comin - Payment notes » Amount cherged   debit  credit card: $ 84643, __ - -— . - First-time visitors please regisier. Have  ID #   recent prescription number handy. Allitams sold  Express Scripts Pharmacy  FSA efigible IIAS items. Qo - DAY DERVASC Oy TRBLeT S _q-z2- zo? $ 4te.I'> ﬁ ORD 0003554747703 Page  1 This fax  received  TC-Fax03\",\n",
       " '24': \"10/14/21-JC ps2pwB00653 ' 1 O Express Scripts’ Invoice Pharmacy Review  order. Your payment summary information Cost   package $659.16 beodionmmlion 12-074245302 Paymgnt(s)/adjustment(s) applied $-665.71 Shipping Cost FREE Order number: 0003560450057 Previous Balance $6.55 Plan member: SUZANNE CHEANG Total amount due $0.00 Order process date: 10/14/2021 . Want  avoid  clutter    paperwork  comes   medicine? No&;you cén get    papersgnline! YBu'IIW 0 get instant access   invoice, refill forms   key messages   medicine. To sign up,  go to: ~ express-scripts.com/green. Medication information - What  needtodonext - B - You pay SUZANNE CHEANG You  3 refill(s)  10/07/2022. Refill  12/27/2021. For fastest refills, $659.16 VEMLIDY TABS 30'S simply refill  express-scripts.com/rx. Or   call 866.544.6814  mail us  Strength: 25MG Qty: 3 enclosed Refill Slip  order form  payment. (See message(s)  back   Rx #.) Rt 212873658112 NDC # 61958-2301-01 @) 866.544.6814 24/7 access  pharmacists   ready  help    medications. @ express-scripts.comirx First-time visitors please register. Have  ID #   recent prescription number handy. All items sold  Express Scripts Pharmacy  FSA eligible IIAS items. Page 1of 4 ORD #: 0003560450057 Bt\",\n",
       " '25': 'Written: 06/18/21 1of1 DOB: 12/09 PHONES g ILENOR6MG T DE#42847-0106-30 Days Supply: 30 Qty: 30 3.00 Refills  06/18/22 Retail Price: REFILL Fill # 02 471647213002006014100486210004000100',\n",
       " '3': '@é KAISER PERMANENTE. Pharmacy Dispensing List =9 Dispensed  KPWA MAIL ORDER  09/20/21  01:25 % Federal Tax ID: 91-0511770 Phone: 800-245-7979 NCPDP Number: 4932403 16736573-P 2921 Naches Ave SW Renton, WA 98057 Patient: HA, ETHAN (Member# 02872341) Prescription Date Of Days > Number Fill Qty Supply g::f;; 24126540-36 09/20/21 10.50 28 150 00 OMNITROPE 10 mg/1.5 mL (6.7 mg/mL) sub-q cartridge (NDC 00781300407) Prescriber: Kishiyama, Christopher, Account 02872341 Total Patient Charges: 150.00 / Payments 150.00 Due: 0 00 Total Patient Charges 0.00 This receipt   provided    proof  pagment. Payments received   posted  Kaiser Permanente records within 3 business days. Please retain  copy   document   records. This document contains confidential information   health  care . This  provided directly    private use  Call  doctor  medical advice  side effects. You may report side effects  FDA  1-800-FDA-1085 For questions regarding  medications, please contact  Pharmacy  1-800-245-7979 We  available 9am-4 30pm Need  pay  bill? Pay Oniine https://wa.kaiserpermanente.org/html/public/customer-service/payment Pay  Berson   personal check   bank card   Kaiser Permanente medical office. Kaiser Permanent: MasterCard. Discover,  American Express. We  accept cash Mail  payment   payment coupon   envelope sent   bill. Include  guarantor 1D   Pay  phone   credit card 24/7  calling 1-844-632-2064. Pay  mail: Kaiser Permanente Patient Financial Services P O Box 740488 Los Angeles, CA 90074-0488 Page 1  1',\n",
       " '4': 'Kaiser Permanente Mail Order Pharmacy RICHARD RODER 9521 Dalen Street, 4417 CLAYFORD ST Downey, CA 90242 SAN DIEGO, CA 92117 (866) 206-2983 ORDER:26531986077 9/26/21 10:17 AM 7am - 7pm Monday - Friday,10am - 2pm Saturday Name: Richard Roder Medical Record Number: *************2442 RX Number Med Qt Medication Name NDC Number KP Retail Your Price 1820 1281 1143 180 ISENTRESS 400 MG TABLET 00006022761 $5,596.61 F $40.00 1820 1281 1142 180 RITONAVIR 100 MG TABLET 00054040713 $188.18 F $10.00 1820 1281 1145 90 1820 1281 1150 180 FEERAERRRARRAAARRERS L) DESCOVY 200 MG-25 MG TABLET 61958200201 $5.577.44 F $40.00 : 500 MG TABLET 59676056201 $5,701.46 F $40.00 emaining ltems   shipped separately ******* - xaarriss Payment Type CardType Card¥# ExpDate TransactionlD Auth# TransType Amount PAYMENT CARD MC 6165 At 210927115958 46749S Purchase $140.00 Check  online features available  signing   kp.org Total Prescription Price: $130.00 ® Check order status  track delivery: 24 hrs/day: kp.org/refills  via  mobile app Sales Tax: $0.00 ® Go paperless: Gel health documents on-line: Set  preferences  kp.org/paperless ® Get notifications: Sign   text  email messages: Update notification preferences  checkout  kp.org/refills Shipping Cost: $0.00 Get  COVID-19 vaccine  help protect    loved ones. Visit kp.org  call  appointment center today. Your Order Total: $130.00 Payment Balance Due: $0.00 Ail Prescription Sales  Final. Unopened Over-the-Counter items may  returned  refunds within 30 days  criginal receipt. Pharmacy Consultation Telephone Service: The Kaiser Foundation Mail Order Pharmacy provides prescription consultation service    patients. You   nght  request consultation   prescriptions. To request  consultation   pharmacist concerning  medications. please call  pharmacy  1 866-206-2983. Call  docter  medical advice  side effects. You may report  side effects  FDA  1-800-FDA-1088 Questions regarding  integrity   package  medicaticn, please contact us  1-866-206-2983  Member Services A less expernisive alternative may  available  you. Please ask  pharmacist. If  wish  cancel  crder, please contact us immediately. You  contact us  phone referencing  order  question. We recommend calling us right away  cancel  crder. We  cancel  orders      processed prior  shipping. F= Health Flexible Spending Card Eligible. ltem may  eligible   applied  Healthcare Spending Card Account. Save  receipt  check  plan  details Thank   using  Kaiser Permanente Mail Order Pharmacy.',\n",
       " '4B': 'RICHARD RODER 4417 CLAYFORD ST SAN DIEGO, CA 92117 Kaiser Permanente Mail Order Pharmacy 9521 Dalen Street, Downey, CA 90242 (866) 206-2983 7am - 7pm Monday - Friday,10am - 2pm Saturday Name: Richard Roder RX Number Med Qt NDC Number 1820 1281 1146 180 59676057101 hkkkkkkdd bbbk kh bk Rema nlng Items wi\"  Shipped separate\\'y hhkhkk bk kkdd b  bk hdh KP Retail Transaction|D Auth# 210927115958 467498 Payment Type CardType Card# ExpDate PAYMENT CARD MC 6165 TransType Purchase Check  online features available  signing   kp.org ® Check order status  track delivery: 24 hrs/day: kp.org/refills  via  mobile app ® Go paperless: Get health documents on-line: Set  preferences  kp.org/paperless ® Get notifications: Sign   text  email messages: Update notification preferences  checkout  kp.org/\\'refills Total Prescription Price: Get  COVID-19 vaccine  help protect    loved ones. Visit kp.org  call  appointment center today. Your Order Total: Payment Balance Due: All Prescription Sales  Final. Unopened Over-the-Counter items may  returned  refunds within 30 days  original receipt. Pharmacy Consultation Telephone Service. The Kaiser Foundation Mai Order Pharmacy provides prescription consultation service    patients. You   right  request consultation   prescriptions. To request  censultation   pharmacist concerning  madications, please call  pharmacy  !-866-206-2983 Call  dector tor medical advice  side effects. You may report  side effects  FDA  1-800-FDA-1088. Questions regarding  integrity   package  medication, please contact us  1-866-206-2983  Member Services A less expensive alternative may  available  you. Please ask  pharmacis!. I  wish lc cancel  crder, please centact us immediately. You  contact us  phone referencing  order  question. We recommend calling us nght away  cancel  order. We  cancel  orders      processed prior ta shipping. F= Health Flexible Spending Card Eligible. ltem may  eligible   applied  Healthcare Spending Card Account Save  receipt  check  plan  details Thank   using  Kaiser Permanente Mail Order Pharmacy $4.632.62 F $40.00 Sales Tax: Shipping Cost: ORDER:26568278919 9/29/21 08:30 PM Medical Record Number: *************2442 Your Price Amount $170.00 $40.00 $0.00 $0.00 $40.00 $0.00',\n",
       " '5': \"Total: $280.13 Total RX: 1 ’ Signature Required: N . Sams Club. Counsel: Y Pharmacy     questions, please fee! free fo contact  Pharmacist  (989)773-5814. Call yg doctor  r’:‘edi advice  side effects. You may report side e  FDA  1-800-FDA-1088  use  internet  Prescriber NPI: 19029874090 QTY:90 DAW:0 DAY SUPPLY: 8D TP REF # 213083294861220999 Pharmmacy hours: '—% ulm mlm XARELTO20MG TABJP NDC: 50458-0579-30 ' [ LLR DIRECTIONS: TAKE 1 TABLET BY MOUTH ONCE DAILY WITH ' | G188 LAKE MONRCALM RD. + ' 79315 38021 DINNER | | EDMORE, MI 48829 | | OC# 555 924 240 576 991 250 107 659 238 | SAM'S PHARMAGY 10-4982 PRIORITY: FUTURE | 4850 ENCORE BLVD REFILL l | MT PLEASANT, MI 48858 -0000 I | NABP: 2369420 NPL: 1982738977 Reduced Paper: N | | RX: 6744839 Ref=2 DATE: 1104721 l | | | Patient Pay: $280.13 Cash: $175947 CMK BERLIN.KEVIN J | | |\",\n",
       " '6': \"Promised: 8/14/21, 10:24 AM WA'T'NG 322:1:5501 ReadyFill Eligible GR= I A Prescrlptlon Information Wik v coawrugold 'ODACTRA 12SQ-HDMSL TABLET | Place 1 tablet   tongue  daily. Revisit needed  additional refills. IrBReAIANLARLEBAIRE:  tongue. Do  chew  swallow whole. Seebaciiomacr oes  | - DO  eat  drink anything  5 minutes  taking  medication - Wash hands  use - Save time  ReadyFill  we'll   refills ready  you. Ask  enrolling today Receipt & Refill Information ‘CVSPharmacy opceas | ODACTRA 12 SQ-HDM Tocumean. A 33286 SL TABLET STORE TEL: (517) 423-6676 ’ M__ ‘ 1 - - 52709-1701 DAW: 0 px: 1953336 O A INSURANCE INFORMATION: PDP BNE10011 P TP: 2414 5% TRXMEDD .  TRMEDD csmerssss OAP: Safety MFRPKG: Yes REFILL: 4  11/17/21 MFR: ALK-ABELLO, INC PRSCBR: Georgiana Sanders DAYS SUPPLY: 30 — DATE FILLED: 8/14/21 RETAIL PRICE:$388.99 - amountoue: $158.88 Notes   Pharmacy This medication   regularly stocked |   pharmacy. To   Rx ready  time, please refill two business days  advance  need date. For  information please contact  pharmacy. ¥ CVS pharmacy OenE 807 WEST CHICAGO BLVD TECJHS&;HI MI 45286 517 423 6676 REGBT9 TRN#E828 CSHR#1925946 STRERUZE Helped by. ANNA F 1 RX #: #x%%3360070 168 . 88N Survey ID # TOTAL 168. CHARGE 15833 kEXXSEAXRXRRJG4E RF CHASE VISA *RARRAELRERE DGR APPROVEDH 067710 REF# 198282 TRAN TYPE SALE Al ¢ L‘.'UQU!)U\\\\IS'U’U ICt bZD\\\\,LL37ﬂ26h[]f 5 10 NAL® 81723007 NO mefvT'lot F?ﬁ. £ Cvii. 1FOC00 TVR(95): ¢ f.‘bf‘u TSI(SB): 0000 CHANGE 3508 0251 2286 8281 94 State law may Prohlblf  return  prescriptions. Please consult  pharmacist. Returns  receipt, sublect CVS Return Policy, thru 10/16/2021 efund amount  based  price   coupons  dlscounts. AUGUST 16, 2021 2:15 PH Doy DD DD DD\",\n",
       " '7': 'Receipt & Refill Information— T~ CVS Pharmacy NORVASC 10 MG e   TABLET STORE TEL: (859) 814-0141 5 Rx: 8976320 07 INSURANCE INFORMATION: NDC: 000629-1540-68 DAW: 0 QTY: 30 EA CAP: Non-Safety MFR PKG: Yes REFILL: 1  3/22/22 MFR: PFIZER US PHARM PRSCBR: Jeremy Engel DAYS SUPPLY: 30 = D LLED™1624/21  auount oue: $95.00 . e E— Notes   Pharmacy This medication   regularly stocked |   pharmacy. To   Rx ready  time, please refill two business days  advance  need date. For  information please contact  pharmacy. ¥ CVS pharmacy  ) L} 3dA130vu015 oo du Ajojee-uop v 1sonbos | \\\\avenol alva 0e6eE 4l L0 02€9.68 XH 13718V OW 01 DSVAHON L0 02€9.68 X4 NIFHNVIN \\'FOHVS L0 0ze9L68 XH 00D0SLOM AM \"SYWOHL 1HO4 0600- 1t (G4g) 3L AWV OHO PiL Ay A28 BAY 034UV 611 NIZUNYW \\'306VS \" \"13ON3',\n",
       " '8': 'MO TR T FURUERAQTRNRDOANEuAl 123194427 789907 ®CVS caremark” Mail Service Invoice/Receipt Balance Due Upon Receipt AR ER AN 70-90 | 546355406 FERNANDO FLORE% |l|l|ll|||||||||||||\"|u\\'|\"||\\'Illhnllll||||||\"||l|\"||\"||ll 148 ANTLER CIRCLE  ’ 7RI CVS Caremark SAN ANTONIO, TX 78232-0000 PO Box 659539 San Antonio TX 78265-9539 T See reverse side  pavment  refund options. Retain  bottom portion   form   records. Summary  order 000002394427789 Date: 11/01/2021 Days Co-Pay Name / Rx# Quantity Supply Drug Name / NDC Amount FERNANDO FLORES Rx# 136755477 90 EA 90 $70.00+* * FSA/HRA eligible health care expenses. Retain Invoice Receipt  vour records. Written information   prescription   provided  you. Please read  information   take  medication. If    questions concerning  prescription.  pharmacist  available  normal business hours  answer  questions toll-free  1-888-792-3862. Informacion escrita acerca de esta receta ha sido provista para usted. Favor de leer esta informacion antes de tomar el medicamento. Si usted tiene preguntas tocante  esta receta, un farmacéutico esta presente durante las horas normales de trabajo, para contester sus preguntas  1-888-792-3862. T\\'he Notice  Privacy Practices   found   web site   idenufication card   writing to: CVS CAREMARK, PO BOX 52072, PHOENIX, AZ 85072-2072. Protect  environment. Do  flush unused medications  pour   sink  drain. Complaints conceming  practice  pharmacy may  filed   Texas State Board  Pharmacy at: William P. Hobby Bldg. Suite 3-500. 333 Guadalupe, Box 21. Austin. TX. 78701-3942: 1-512-305-8000  toll-free 1-800-821-3205  log   www.Isbp.state.tx.us. Shipping Charge $0.00 Total   Order $70.00 Previous Account Balance $0.00 Payment Received   Order - $70.00 Balance Due Upon Receipt $0.00 4 Balance Due may  reflect pavments recently mailed separate   order This document may contain references  brand-name prescription drugs   trademarks  registered Page 1 trademarks  pharmaceutical manufacturers    affiliated  us.',\n",
       " '9': '= S e e b A e G R S SeR G use. Too much acid   blood  urine (ketoacidosis)  severe urinary tract infections (UTls)  happened. Ketoacidosis   deadly. Both   may need   treated   hospital. It may  harder  control blood sugar  times  stress   fever, inféction, injury,  surgery. A change  physical activity, . exercise,  diet may also affect blood sugar. This drug may raise  chance   broken bone. Talk   doctor. Kidney problems  happened. Sometimes,  may need   treated   hospital   dialysis. A rare   bad infection  happened  drugs like  one. This infection may  deadly. Get medical help right away   genitals   area   genitals  rectum becomes tender, red,  swollen,     fever    feel well. If   65  older, use  drug  care. KEEP OUT OF REACH OF CHILDREN: STORE IN SAFETY CONTAINER OR SECURE AREA. WIC# 828188 CYNTHIA DAFFIN 4382 Fathbrook Ln, Mobile, AL 366934931 1251)382-4441 RX # 2475235-01777 DATE: 10/20/21 INVOKANA 100MG TABLETS 1 REFILL BEFORE 08/17/22 NDC:50458-0140-30  JQI_‘ P. BURCH, MD PLAN: PERX MFG:JANSSEN GROUP# B8S0 JLR/ 4 | AGD CLAIM REF# OMXLPQ3 ~ PH:(251)345-3394 Customer Wmm ARPORT BLVD MOSILE, AL 36608 Pharmacy use  SAT INVOKANA 100MG TABLETS 8:00AM 50458-0140-30 Refill ALPHA AYRTY OEOFLORSKOS €91 ‘OANI  X CYNTHIA DAFFIN 4382 Fathbrook Ln, Mobile, AL 366934331 {251)382-4441 RX # 2475235-01777 INVOKANA 100MG TABLETS . P. BURCH, MD PLAN: PERX MFG:JANSSEN GROUP# B89 JWR/ / | AGD CLAIM REF# OMXLPQ3 Walgreens QTyY 30 @( JLR/ 1 / NGD E£0SO9RE POT LLI TEYO “LAO 1 REFILL BEFORE 08/17/22 NDC:50458-0140-3 3948 AIRPORT BLVD MOBILE, AL 36608 _PH:(251)345-3394 DATE: 10/20/21 0 Duplicate YELLOW FRONT: CFZ / 100 Med Guide E g !IIIIIIIIIIIIIIIIIIIIII TR  BTzl o) - cuT HeRE DE'}"
      ]
     },
     "execution_count": 4,
     "metadata": {},
     "output_type": "execute_result"
    }
   ],
   "source": [
    "data"
   ]
  },
  {
   "cell_type": "code",
   "execution_count": 34,
   "id": "7127d981",
   "metadata": {},
   "outputs": [
    {
     "data": {
      "text/plain": [
       "\"——————_———_ﬁ All Savers' Polcy Number: 5400-025818 Altemate Funding | Health Plan 80840)971 1-81400-00 MemberiD: 62 Group Number: 908868 Member: ‘”E m&: - Payer ID: 81400 01 SANDRA HILER QOPTUMRx‘ Rx BIN: 610279 Rx PCN: 9999 Rx GRP: UGRI Copay: $25 Spec: $75 ER: $300 Uniteck desithcar Choice Effective Date: 12/01/2020 010 Administered  United HealthCare Services, Inc.\""
      ]
     },
     "execution_count": 34,
     "metadata": {},
     "output_type": "execute_result"
    }
   ],
   "source": [
    "data['11']"
   ]
  },
  {
   "cell_type": "code",
   "execution_count": null,
   "id": "bb5fef00",
   "metadata": {},
   "outputs": [],
   "source": []
  },
  {
   "cell_type": "markdown",
   "id": "ac6d393a",
   "metadata": {},
   "source": [
    "## Using spacy PhaseMatcher for extracting name:"
   ]
  },
  {
   "cell_type": "code",
   "execution_count": 8,
   "id": "8e8cd8db",
   "metadata": {},
   "outputs": [
    {
     "name": "stderr",
     "output_type": "stream",
     "text": [
      "2022-02-03 11:43:02.637714: W tensorflow/stream_executor/platform/default/dso_loader.cc:59] Could not load dynamic library 'cudart64_101.dll'; dlerror: cudart64_101.dll not found\n",
      "2022-02-03 11:43:02.637751: I tensorflow/stream_executor/cuda/cudart_stub.cc:29] Ignore above cudart dlerror if you do not have a GPU set up on your machine.\n",
      "WARNING: You are using pip version 21.1.2; however, version 22.0.2 is available.\n",
      "You should consider upgrading via the 'D:\\Pycharm_Projects_2\\transcript_insights\\venv\\Scripts\\python.exe -m pip install --upgrade pip' command.\n"
     ]
    },
    {
     "name": "stdout",
     "output_type": "stream",
     "text": [
      "Collecting en-core-web-sm==3.0.0\n",
      "  Downloading https://github.com/explosion/spacy-models/releases/download/en_core_web_sm-3.0.0/en_core_web_sm-3.0.0-py3-none-any.whl (13.7 MB)\n",
      "Requirement already satisfied: spacy<3.1.0,>=3.0.0 in d:\\pycharm_projects_2\\transcript_insights\\venv\\lib\\site-packages (from en-core-web-sm==3.0.0) (3.0.6)\n",
      "Requirement already satisfied: setuptools in d:\\pycharm_projects_2\\transcript_insights\\venv\\lib\\site-packages (from spacy<3.1.0,>=3.0.0->en-core-web-sm==3.0.0) (51.3.3)\n",
      "Requirement already satisfied: numpy>=1.15.0 in d:\\pycharm_projects_2\\transcript_insights\\venv\\lib\\site-packages (from spacy<3.1.0,>=3.0.0->en-core-web-sm==3.0.0) (1.19.2)\n",
      "Requirement already satisfied: requests<3.0.0,>=2.13.0 in d:\\pycharm_projects_2\\transcript_insights\\venv\\lib\\site-packages (from spacy<3.1.0,>=3.0.0->en-core-web-sm==3.0.0) (2.25.1)\n",
      "Requirement already satisfied: packaging>=20.0 in d:\\pycharm_projects_2\\transcript_insights\\venv\\lib\\site-packages (from spacy<3.1.0,>=3.0.0->en-core-web-sm==3.0.0) (21.3)\n",
      "Requirement already satisfied: pydantic<1.8.0,>=1.7.1 in d:\\pycharm_projects_2\\transcript_insights\\venv\\lib\\site-packages (from spacy<3.1.0,>=3.0.0->en-core-web-sm==3.0.0) (1.7.4)\n",
      "Requirement already satisfied: preshed<3.1.0,>=3.0.2 in d:\\pycharm_projects_2\\transcript_insights\\venv\\lib\\site-packages (from spacy<3.1.0,>=3.0.0->en-core-web-sm==3.0.0) (3.0.5)\n",
      "Requirement already satisfied: cymem<2.1.0,>=2.0.2 in d:\\pycharm_projects_2\\transcript_insights\\venv\\lib\\site-packages (from spacy<3.1.0,>=3.0.0->en-core-web-sm==3.0.0) (2.0.5)\n",
      "Requirement already satisfied: tqdm<5.0.0,>=4.38.0 in d:\\pycharm_projects_2\\transcript_insights\\venv\\lib\\site-packages (from spacy<3.1.0,>=3.0.0->en-core-web-sm==3.0.0) (4.56.0)\n",
      "Requirement already satisfied: pathy>=0.3.5 in d:\\pycharm_projects_2\\transcript_insights\\venv\\lib\\site-packages (from spacy<3.1.0,>=3.0.0->en-core-web-sm==3.0.0) (0.5.2)\n",
      "Requirement already satisfied: spacy-legacy<3.1.0,>=3.0.4 in d:\\pycharm_projects_2\\transcript_insights\\venv\\lib\\site-packages (from spacy<3.1.0,>=3.0.0->en-core-web-sm==3.0.0) (3.0.6)\n",
      "Requirement already satisfied: blis<0.8.0,>=0.4.0 in d:\\pycharm_projects_2\\transcript_insights\\venv\\lib\\site-packages (from spacy<3.1.0,>=3.0.0->en-core-web-sm==3.0.0) (0.7.4)\n",
      "Requirement already satisfied: catalogue<2.1.0,>=2.0.3 in d:\\pycharm_projects_2\\transcript_insights\\venv\\lib\\site-packages (from spacy<3.1.0,>=3.0.0->en-core-web-sm==3.0.0) (2.0.4)\n",
      "Requirement already satisfied: thinc<8.1.0,>=8.0.3 in d:\\pycharm_projects_2\\transcript_insights\\venv\\lib\\site-packages (from spacy<3.1.0,>=3.0.0->en-core-web-sm==3.0.0) (8.0.5)\n",
      "Requirement already satisfied: typing-extensions<4.0.0.0,>=3.7.4 in d:\\pycharm_projects_2\\transcript_insights\\venv\\lib\\site-packages (from spacy<3.1.0,>=3.0.0->en-core-web-sm==3.0.0) (3.7.4.3)\n",
      "Requirement already satisfied: murmurhash<1.1.0,>=0.28.0 in d:\\pycharm_projects_2\\transcript_insights\\venv\\lib\\site-packages (from spacy<3.1.0,>=3.0.0->en-core-web-sm==3.0.0) (1.0.5)\n",
      "Requirement already satisfied: jinja2 in d:\\pycharm_projects_2\\transcript_insights\\venv\\lib\\site-packages (from spacy<3.1.0,>=3.0.0->en-core-web-sm==3.0.0) (2.11.2)\n",
      "Requirement already satisfied: wasabi<1.1.0,>=0.8.1 in d:\\pycharm_projects_2\\transcript_insights\\venv\\lib\\site-packages (from spacy<3.1.0,>=3.0.0->en-core-web-sm==3.0.0) (0.8.2)\n",
      "Requirement already satisfied: srsly<3.0.0,>=2.4.1 in d:\\pycharm_projects_2\\transcript_insights\\venv\\lib\\site-packages (from spacy<3.1.0,>=3.0.0->en-core-web-sm==3.0.0) (2.4.1)\n",
      "Requirement already satisfied: typer<0.4.0,>=0.3.0 in d:\\pycharm_projects_2\\transcript_insights\\venv\\lib\\site-packages (from spacy<3.1.0,>=3.0.0->en-core-web-sm==3.0.0) (0.3.2)\n",
      "Requirement already satisfied: zipp>=0.5 in d:\\pycharm_projects_2\\transcript_insights\\venv\\lib\\site-packages (from catalogue<2.1.0,>=2.0.3->spacy<3.1.0,>=3.0.0->en-core-web-sm==3.0.0) (3.4.0)\n",
      "Requirement already satisfied: pyparsing!=3.0.5,>=2.0.2 in d:\\pycharm_projects_2\\transcript_insights\\venv\\lib\\site-packages (from packaging>=20.0->spacy<3.1.0,>=3.0.0->en-core-web-sm==3.0.0) (2.4.7)\n",
      "Requirement already satisfied: smart-open<4.0.0,>=2.2.0 in d:\\pycharm_projects_2\\transcript_insights\\venv\\lib\\site-packages (from pathy>=0.3.5->spacy<3.1.0,>=3.0.0->en-core-web-sm==3.0.0) (3.0.0)\n",
      "Requirement already satisfied: idna<3,>=2.5 in d:\\pycharm_projects_2\\transcript_insights\\venv\\lib\\site-packages (from requests<3.0.0,>=2.13.0->spacy<3.1.0,>=3.0.0->en-core-web-sm==3.0.0) (2.10)\n",
      "Requirement already satisfied: chardet<5,>=3.0.2 in d:\\pycharm_projects_2\\transcript_insights\\venv\\lib\\site-packages (from requests<3.0.0,>=2.13.0->spacy<3.1.0,>=3.0.0->en-core-web-sm==3.0.0) (4.0.0)\n",
      "Requirement already satisfied: certifi>=2017.4.17 in d:\\pycharm_projects_2\\transcript_insights\\venv\\lib\\site-packages (from requests<3.0.0,>=2.13.0->spacy<3.1.0,>=3.0.0->en-core-web-sm==3.0.0) (2020.12.5)\n",
      "Requirement already satisfied: urllib3<1.27,>=1.21.1 in d:\\pycharm_projects_2\\transcript_insights\\venv\\lib\\site-packages (from requests<3.0.0,>=2.13.0->spacy<3.1.0,>=3.0.0->en-core-web-sm==3.0.0) (1.25.6)\n",
      "Requirement already satisfied: click<7.2.0,>=7.1.1 in d:\\pycharm_projects_2\\transcript_insights\\venv\\lib\\site-packages (from typer<0.4.0,>=0.3.0->spacy<3.1.0,>=3.0.0->en-core-web-sm==3.0.0) (7.1.2)\n",
      "Requirement already satisfied: MarkupSafe>=0.23 in d:\\pycharm_projects_2\\transcript_insights\\venv\\lib\\site-packages (from jinja2->spacy<3.1.0,>=3.0.0->en-core-web-sm==3.0.0) (1.1.1)\n",
      "Installing collected packages: en-core-web-sm\n",
      "Successfully installed en-core-web-sm-3.0.0\n",
      "[!] As of spaCy v3.0, shortcuts like 'en' are deprecated. Please use the full\n",
      "pipeline package name 'en_core_web_sm' instead.\n",
      "[+] Download and installation successful\n",
      "You can now load the package via spacy.load('en_core_web_sm')\n"
     ]
    }
   ],
   "source": [
    "import spacy\n",
    "# !python -m spacy download en\n",
    "nlp = spacy.load('en_core_web_sm')"
   ]
  },
  {
   "cell_type": "code",
   "execution_count": 10,
   "id": "00308316",
   "metadata": {},
   "outputs": [
    {
     "name": "stdout",
     "output_type": "stream",
     "text": [
      "Invoice Review ORG\n",
      "57 CARDINAL\n",
      "09 CARDINAL\n",
      "Payment(s)/adjustment(s DATE\n",
      "Shipping Cost Total WORK_OF_ART\n",
      "$ 120.00 $ MONEY\n",
      "0.00 MONEY\n",
      "120.00 MONEY\n",
      "300MG Qty ORG\n",
      "90 CARDINAL\n",
      "50458-0141-900 DATE\n",
      "24/7 CARDINAL\n",
      "Express Scripts Pharmacy  FSA WORK_OF_ART\n",
      "IIAS ORG\n",
      "120.00 MONEY\n",
      "3589847982000 CARDINAL\n",
      "UOT ORG\n"
     ]
    }
   ],
   "source": [
    "docs = nlp(data['15'])\n",
    "\n",
    "for ent in docs.ents:\n",
    "    print(ent, ent.label_)"
   ]
  },
  {
   "cell_type": "code",
   "execution_count": 27,
   "id": "54d6c6ae",
   "metadata": {},
   "outputs": [
    {
     "ename": "NameError",
     "evalue": "name 'docs' is not defined",
     "output_type": "error",
     "traceback": [
      "\u001b[1;31m---------------------------------------------------------------------------\u001b[0m",
      "\u001b[1;31mNameError\u001b[0m                                 Traceback (most recent call last)",
      "\u001b[1;32m<ipython-input-27-784ed60bdeae>\u001b[0m in \u001b[0;36m<module>\u001b[1;34m\u001b[0m\n\u001b[1;32m----> 1\u001b[1;33m \u001b[0mdocs\u001b[0m\u001b[1;33m[\u001b[0m\u001b[1;36m4\u001b[0m\u001b[1;33m]\u001b[0m\u001b[1;33m\u001b[0m\u001b[1;33m\u001b[0m\u001b[0m\n\u001b[0m",
      "\u001b[1;31mNameError\u001b[0m: name 'docs' is not defined"
     ]
    }
   ],
   "source": [
    "docs"
   ]
  },
  {
   "cell_type": "code",
   "execution_count": 12,
   "id": "e44e98fe",
   "metadata": {},
   "outputs": [],
   "source": [
    "#data['15'].split('.')"
   ]
  },
  {
   "cell_type": "code",
   "execution_count": 10,
   "id": "eb66a479",
   "metadata": {},
   "outputs": [],
   "source": [
    "terms = [\n",
    "\"KATHLEEN A. MCGRAW\",\n",
    "\"HOERBER, STEVEN\",\n",
    "\"HA, ETHAN\",\n",
    "\"Richard Roder\",\n",
    "\"NEITZEL RANDALL,R\",\n",
    "\"Gross, Margaret\",\n",
    "\"Sarge, Maureen\",\n",
    "\"FERNANDO FLORES\",\n",
    "\"CYNTHIA DAFFIN\",\n",
    "\"Suzette\",\n",
    "\"CRAIG HILER\",\n",
    "\"Madrigal, Graciela\",\n",
    "\"Lombardo, Christopher\",\n",
    "\"DANIEL ROMSTEDT\",\n",
    "\"WILLIAM HICKS\",\n",
    "\"BRIAN CARLEW\", \n",
    "\"JOSEPH HINNENKAMP\",\n",
    "\"Scarano, Vincent\",\n",
    "\"SAMUEL CASTANEDA\",\n",
    "\"HOWARD JESSEE\",\n",
    "\"PAUL C VIEYRA\",\n",
    "\"Randles, David\",\n",
    "\"RONALD NALDOZA\",\n",
    "\"SUZANNE CHEANG\",\n",
    "\"BELL, LINDA\"]"
   ]
  },
  {
   "cell_type": "code",
   "execution_count": 105,
   "id": "6873c0a1",
   "metadata": {},
   "outputs": [],
   "source": [
    "#terms"
   ]
  },
  {
   "cell_type": "code",
   "execution_count": 6,
   "id": "1aa076d4",
   "metadata": {},
   "outputs": [],
   "source": [
    "def name_div(name):\n",
    "    if ',' in name:\n",
    "        fname = name.split(',')[1].lstrip(' ')\n",
    "        lname = name.split(',')[0]\n",
    "        \n",
    "    else:\n",
    "        fname = name.split()[0]\n",
    "        lname = name.split()[len(name.split())-1]\n",
    "    return {'First Name':fname.title(), 'Last Name':lname.title()}"
   ]
  },
  {
   "cell_type": "code",
   "execution_count": 36,
   "id": "775c5b1a",
   "metadata": {},
   "outputs": [
    {
     "name": "stdout",
     "output_type": "stream",
     "text": [
      "i 1\n",
      "KATHLEEN A. MCGRAW\n",
      "i 2\n",
      "Al HHIT\n",
      "i 3\n",
      "SW Renton\n",
      "i 4\n",
      "Richard Roder\n",
      "i 5\n",
      "CMK BERLIN\n",
      "i 6\n",
      "Georgiana Sanders\n",
      "i 7\n",
      "Jeremy Engel\n",
      "i 8\n",
      "William P. Hobby Bldg\n",
      "i 9\n",
      "P. BURCH\n",
      "i 11\n",
      "SANDRA HILER\n",
      "i 12\n",
      "Alberto Flores\n",
      "i 13\n",
      "Hylan Blvd\n",
      "i 14\n",
      "DANIEL ROMSTEDT\n",
      "i 15\n",
      "Youpay WILLIAM\n",
      "i 16\n",
      "BRIAN CARLEW\n",
      "i 17\n",
      "JOSEPH HINNENKAMP\n",
      "i 18\n",
      "RERE OwveyY -\n",
      "i 19\n",
      "PLEASE READ\n",
      "i 20\n",
      "ANGELO KANELLOS\n",
      "i 21\n",
      "PLEASE READ\n",
      "i 22\n",
      "Yo FEROC\n",
      "i 23\n",
      "RONALD NALDOZA\n",
      "i 24\n",
      "SUZANNE CHEANG\n",
      "i 25\n",
      "T DE\n"
     ]
    }
   ],
   "source": [
    "import spacy\n",
    "from spacy.matcher import PhraseMatcher\n",
    "from nltk.corpus import words\n",
    "import re\n",
    "\n",
    "nlp_1 = spacy.load(\"en_core_web_sm\")\n",
    "nlp_2 = spacy.load(\"en_core_web_trf\")\n",
    "\n",
    "eng_dict_words = set(words.words())\n",
    "eng_dict_words.add('oniine')\n",
    "\n",
    "def ner_detect_spacy(text):                         \n",
    "    \n",
    "    sents = nlp_1(text)\n",
    "\n",
    "    names_list = []\n",
    "    \n",
    "    for entity in sents.ents:\n",
    "        if entity.label_ == 'PERSON':\n",
    "            # print('spacy persons',str(entity))\n",
    "            # check if word in dict, removing last char to account for plural\n",
    "#             if (not any(char.isdigit() for char in str(entity))):\n",
    "            if (not all(( ((w in eng_dict_words) or (w.rstrip('s') in eng_dict_words)) for w in re.sub(r'[^\\w\\s]','',str(entity).lower()).split())) and (not any(char.isdigit() for char in str(entity)))):\n",
    "              names_list.append(str(entity))\n",
    "    \n",
    "    sents = nlp_2(text)\n",
    "    \n",
    "    for entity in sents.ents:\n",
    "        if entity.label_ == 'PERSON':\n",
    "            # print('spacy persons',str(entity))\n",
    "            # check if word in dict, removing last char to account for plural\n",
    "#             if (not any(char.isdigit() for char in str(entity))):\n",
    "            if (not all(( ((w in eng_dict_words) or (w.rstrip('s') in eng_dict_words)) for w in re.sub(r'[^\\w\\s]','',str(entity).lower()).split())) and (not any(char.isdigit() for char in str(entity)))):\n",
    "              names_list.append(str(entity))\n",
    "           \n",
    "    found_name = ''\n",
    "    for name in names_list: # name assumed to be the first two word string\n",
    "        if len(name.split())>1:\n",
    "            found_name = name\n",
    "    \n",
    "    if found_name=='':\n",
    "        # regex for all caps words\n",
    "        matches = re.findall(r\"([A-Z]+\\s?[A-Z]+[^a-z0-9\\W])\",text)\n",
    "        for match in matches:\n",
    "            if len(match.split())>1:\n",
    "                if not all(m in eng_dict_words for m in match.lower().split()): # must not be both english words\n",
    "                    if max\n",
    "                    found_name = match\n",
    "            \n",
    "    return found_name\n",
    "\n",
    "for i in range(1,26):\n",
    "    if(i!=10):\n",
    "        print('i',i)\n",
    "        name = ner_detect_spacy(data[str(i)])\n",
    "        print(name)\n",
    "        \n",
    "        \n",
    "        \n",
    "        "
   ]
  },
  {
   "cell_type": "code",
   "execution_count": 97,
   "id": "7ce626e7",
   "metadata": {},
   "outputs": [
    {
     "data": {
      "text/plain": [
       "'Invoice Review  order   Invoice number 57037634664 ° Plan member WILLIAM HICKS Order process date 09162021 09172021 INVOKANA TABS LO00Z86Z PSESSE Want  avoid  clutter    paperwork  comes   medicine Now   get    papers online Youll xpress Scripts’ Pharmacy Your payment summary information Cost   package Paymentsadjustments applied Shipping Cost Total amount due  12000   12000 FREE  000 get instant access   invoice refill forms   key messages   medicine To sign up  go to expressscriptscomgreen Medication information “ What  need   next — eae eee You pay  WILLIAM HICKS You  1 refills  01212022 Refill  11102021 For fastest refills  12000 INVOKANA TABS simply refill  expressscriptscomrx Or   call 8003408796 Strength 300MG Qty 90 Ro 210280140357 © © NDC  504580141900 8003408796 247 access  pharmacists   ready  help    medications expressscriptscomrx Firsttime visitors please register Have  ID    recent prescription number handy All items sold  Express Scripts Pharmacy  FSA eligible IIAS items Payment notes  Amount charged   debit  credit card  12000 3589847982000 UOT TUTTI TUT'"
      ]
     },
     "execution_count": 97,
     "metadata": {},
     "output_type": "execute_result"
    }
   ],
   "source": [
    "import string\n",
    "\n",
    "translate_table = dict((ord(char), None) for char in string.punctuation)   \n",
    "data['15'].translate(translate_table)"
   ]
  },
  {
   "cell_type": "code",
   "execution_count": null,
   "id": "e607685a",
   "metadata": {},
   "outputs": [],
   "source": []
  },
  {
   "cell_type": "code",
   "execution_count": 1,
   "id": "923338c8",
   "metadata": {},
   "outputs": [],
   "source": [
    "from parsr_client import ParsrClient\n",
    "parsr = ParsrClient('localhost:3001')"
   ]
  },
  {
   "cell_type": "code",
   "execution_count": 5,
   "id": "af8cab10",
   "metadata": {},
   "outputs": [
    {
     "ename": "SyntaxError",
     "evalue": "invalid syntax (Temp/ipykernel_11312/2623274304.py, line 3)",
     "output_type": "error",
     "traceback": [
      "\u001b[1;36m  File \u001b[1;32m\"C:\\Users\\I4724\\AppData\\Local\\Temp/ipykernel_11312/2623274304.py\"\u001b[1;36m, line \u001b[1;32m3\u001b[0m\n\u001b[1;33m    config_path='defaultConfig.json'\u001b[0m\n\u001b[1;37m    ^\u001b[0m\n\u001b[1;31mSyntaxError\u001b[0m\u001b[1;31m:\u001b[0m invalid syntax\n"
     ]
    }
   ],
   "source": [
    "parsr.send_document(\n",
    "   file_path= r\"C:\\Users\\I4724\\Downloads\\OCR Files\"\n",
    "   config_path='defaultConfig.json'\n",
    "   document_name='Document 1_OCR.pdf',\n",
    "   save_request_id=True)"
   ]
  },
  {
   "cell_type": "code",
   "execution_count": null,
   "id": "57eb0184",
   "metadata": {},
   "outputs": [],
   "source": [
    "parsr.get_text()"
   ]
  },
  {
   "cell_type": "code",
   "execution_count": null,
   "id": "d3ab4352",
   "metadata": {},
   "outputs": [],
   "source": []
  },
  {
   "cell_type": "code",
   "execution_count": null,
   "id": "98f896fb",
   "metadata": {},
   "outputs": [],
   "source": []
  }
 ],
 "metadata": {
  "kernelspec": {
   "display_name": "Python 3",
   "language": "python",
   "name": "python3"
  },
  "language_info": {
   "codemirror_mode": {
    "name": "ipython",
    "version": 3
   },
   "file_extension": ".py",
   "mimetype": "text/x-python",
   "name": "python",
   "nbconvert_exporter": "python",
   "pygments_lexer": "ipython3",
   "version": "3.7.6"
  }
 },
 "nbformat": 4,
 "nbformat_minor": 5
}
