{
 "cells": [
  {
   "cell_type": "code",
   "execution_count": 1,
   "metadata": {
    "colab": {
     "base_uri": "https://localhost:8080/"
    },
    "id": "UMmQ_mBxX942",
    "outputId": "7c18296e-6225-46c3-b0ce-486d01fd15e0"
   },
   "outputs": [
    {
     "name": "stdout",
     "output_type": "stream",
     "text": [
      "Mounted at /content/drive/\n"
     ]
    }
   ],
   "source": [
    "from google.colab import drive\n",
    "drive.mount('/content/drive/')"
   ]
  },
  {
   "cell_type": "code",
   "execution_count": 2,
   "metadata": {
    "colab": {
     "base_uri": "https://localhost:8080/"
    },
    "id": "941ZGoBjX-6o",
    "outputId": "4bd0f64d-8fe2-4621-b658-fdb953bd33a9"
   },
   "outputs": [
    {
     "name": "stdout",
     "output_type": "stream",
     "text": [
      "/content/drive/My Drive/project_folder/Trail_Card/Text files/Text files\n"
     ]
    }
   ],
   "source": [
    "%cd drive/My Drive/project_folder/Trail_Card/Text files/Text files"
   ]
  },
  {
   "cell_type": "code",
   "execution_count": 28,
   "metadata": {
    "colab": {
     "base_uri": "https://localhost:8080/"
    },
    "id": "3zn3GvgMZvPE",
    "outputId": "59106a78-c4fc-45b2-87c5-0d393a7efd79"
   },
   "outputs": [
    {
     "name": "stdout",
     "output_type": "stream",
     "text": [
      "Remove Watermark\n",
      "\n",
      "Wondershare PDFelement\n",
      "\n",
      "Kaiser Permanente Mail Order Pharmacy\n",
      "9521 Dalen Street, Downey. CA 90242\n",
      "(866) 206-2983 7am - 7pm Monday - Friday, 10am - 2pm Saturday\n",
      "\n",
      "RICHARD RODER 4417 CLAYFORD ST SAN DIEGO, CA 92117\n",
      "ORDER:26531986077 9/26/21 10:17 AM\n",
      "\n",
      "Name: Richard Roder\n",
      "\n",
      "Medical Record Number: ***`*`*******2442\n",
      "\n",
      "RX Number______Med Qty Medication Name____________________ NDC Number______ KP Retail_______Your Price\n",
      "\n",
      "1820 1281 1143 180\n",
      "\n",
      "ISENTRESS 400 MG TABLET\n",
      "\n",
      "00006022761\n",
      "\n",
      "$5,596.61 F $40,00\n",
      "\n",
      "1820 1281 1142 180\n",
      "\n",
      "RITONAVIR 100 MG TABLET\n",
      "\n",
      "00054040713\n",
      "\n",
      "$188.18 F $10.00\n",
      "\n",
      "1820 1281 1145 90\n",
      "\n",
      "DESCOVY 200 MG-25 MG TABLET 61958200201\n",
      "\n",
      "$5,577.44 F $40.00\n",
      "\n",
      "1820 1281 1150 180\n",
      "\n",
      "/^PREZISTA>00 MG TABLET a|n|n^ |tems wi|| be shipped separately\n",
      "\n",
      "59676056201\n",
      "\n",
      "$5,701.46 F $40.00\n",
      "\n",
      "Payment Type PAYMENT CARD\n",
      "\n",
      "CardType MC\n",
      "\n",
      "Card# ExpDate 6165\n",
      "\n",
      "Transaction ID 210927115958\n",
      "\n",
      "Auth# 46749S\n",
      "\n",
      "TransType Purchase\n",
      "\n",
      "Amount $140.00\n",
      "\n",
      "Check out online features available by signing on to kp.org\n",
      "· Check order status and track delivery: 24 hrs day: kp.org/refills or via our mobile app\n",
      "· Go paperless: Get health documents on-line: Set your preferences at kp.org/paperless\n",
      "· Get notifications: Sign up for text or email messages: Update notification preferences at checkout at kp.org/refiils\n",
      "Get your COVID-19 vaccine to help protect yourself and your loved ones. Visit kp.org or call our appointment center today.\n",
      "\n",
      "Total Prescription Price: Sales Tax:\n",
      "Shipping Cost:\n",
      "Your Order Total: Payment Balance Due:\n",
      "\n",
      "$130.00 $0.00\n",
      "$0.00\n",
      "$130.00 $0.00\n",
      "\n",
      "All Prescription Sales are Final Unopened Over the Counter .terns may be returned for refunds within 30 days with original receipt.\n",
      "Pharmacy Consultation Telephone Service The Kaiser Foundation Mail Order Pharmacy provides prescnption consultation service to all our patients You have the ngh! to request consultation on your prescriptions. To request a consultation with a pharmacist concerning your medications, please call the pharmacy at 1 866 206 2983.\n",
      "Call your doctor for medical advice about side effects You may report your side effects to FDA at 1-800-FDA-1088\n",
      "Questions regarding the integrity of your package or medication, please contact us at 1 -866-206-2983 or Member Services\n",
      "A less expensive alternative may be available to you. Please ask your pharmacist.\n",
      "If you wish to cancel your order, please contact us immediately. You can contact us by phone referencing the order in question. We recommend calling us right away to cancel an order. We can cancel most orders up until it has been processed pnor to shipping.\n",
      "F» Health Flexible Spending Card Eligible. Item may be eligible to be applied to Healthcare Spending Card Account Save this receipt and check your plan for details\n",
      "Thank you lor using the Kaiser Permanente Mail Order Pharmacy.\n",
      "\n",
      "277672312L\n",
      "\n",
      "Page: 1 of 1\n",
      "\n",
      "V.9.4\n",
      "\n",
      "\f",
      "Remove Watermark\n",
      "\n",
      "Wondershare PDFelement\n",
      "\n",
      "Kaiser Permanente Mail Order Pharmacy\n",
      "9521 Dalen Street, Downey. CA 90242\n",
      "(866) 206-2983 7am - 7pm Monday - Friday,10am - 2pm Saturday\n",
      "\n",
      "RICHARD RODER 4417 CLAYFORD ST SAN DIEGO. CA 92117\n",
      "ORDER:26568278919 9'29 21 08:30 PM\n",
      "\n",
      "Name: Richard Roder\n",
      "\n",
      "Medical Record Number: \"\"\"\"·\"·*2442\n",
      "\n",
      "RX Number______Med Qty J^edicaiion Name____________________ NDC Number______ KP Retail_______Your Price\n",
      "\n",
      "1820 1281 1146 180 £jNTELENCE^00 MG TABLET\n",
      "\n",
      "59676057101\n",
      "\n",
      "$4,632.62 F $40.00\n",
      "\n",
      "Remajnjng items w||| be shipped separately........................ *«***«*»\n",
      "\n",
      "Payment Type PAYMENT CARD\n",
      "\n",
      "CardType Card# ExpDate TransactionlD\n",
      "\n",
      "MC\n",
      "\n",
      "6165\n",
      "\n",
      "\"\n",
      "\n",
      "210927115958\n",
      "\n",
      "Auth# 46749S\n",
      "\n",
      "TransType Purchase\n",
      "\n",
      "Amount $170.00\n",
      "\n",
      "Check out online features available by signing on to kp.org\n",
      "· Check order status and track delivery: 24 hrs/day: kp.org/refills or via our mobile app\n",
      "· Go paperless: Get health documents on-line: Set your preferences at kp.org/paperless\n",
      "· Get notifications: Sign up for text or email messages: Update notification preferences at checkout at kp.org refills\n",
      "Get your COVID-19 vaccine to help protect yourself and your loved ones. Visit kp.org or call our appointment center today.\n",
      "\n",
      "Total Prescription Price: Sales Tax:\n",
      "Shipping Cost:\n",
      "Your Order Total: Payment Balance Due:\n",
      "\n",
      "$40.00 $0.00\n",
      "$0.00\n",
      "$40.00 $0.00\n",
      "\n",
      "All Prescription Sales are Pinal. Uncoer.ed Over-the-Counter items may be returned tor refunds within 30 days with onqinal receipt.\n",
      "Pharmacy Consultatror Telephone Service The Kaiser Foundation Mail Order Pharmacy provides prescription consultation service to all our patients You have the right to request consultaton on your prescriptions To request a consultation with a pharmacist concerning you' medications, please call the pharmacy at ' -866 206-2983\n",
      "Call your doctor for medical advice about side effects You may report your side effects to FDA at 1 800-FDA 1088.\n",
      "Questions regarding the integrity of your package or medication, please contact us at 1-866-206-2983 or Member Se-vices\n",
      "A less expensive alternative may be available to you Please ask your pharmacist.\n",
      "II you wish to cancel your order, please contact us immediately You can contact us by phone referencing the cider in quest-on. We recommend calling us right away to cancel an order. We can cancel most orders up until it has been processed prior to shipping.\n",
      "F- Health Flexible Spending Card Eligible Item may be eligible to be applied to Healthcare Spending Card Account Save this receipt and check your plan (or deta ls\n",
      "Thank you for using the Kaiser Pe'manente Mai! Order Pharmacy\n",
      "\n",
      "277755596L\n",
      "\n",
      "Page: 1 of 1\n",
      "\n",
      "V.9.4\n",
      "\n",
      "\f",
      "\n"
     ]
    }
   ],
   "source": [
    "with open(\"Document 4_OCR.txt\", encoding='cp1252') as infile:\n",
    "\n",
    "      contents = infile.read()\n",
    "print(contents)"
   ]
  },
  {
   "cell_type": "code",
   "execution_count": 39,
   "metadata": {
    "colab": {
     "base_uri": "https://localhost:8080/",
     "height": 165
    },
    "id": "2sbMYgggaasU",
    "outputId": "2e49ec2a-2542-4793-e39a-c9533144e2ed"
   },
   "outputs": [
    {
     "ename": "NameError",
     "evalue": "ignored",
     "output_type": "error",
     "traceback": [
      "\u001b[0;31m---------------------------------------------------------------------------\u001b[0m",
      "\u001b[0;31mNameError\u001b[0m                                 Traceback (most recent call last)",
      "\u001b[0;32m<ipython-input-39-f84d2d25edb2>\u001b[0m in \u001b[0;36m<module>\u001b[0;34m()\u001b[0m\n\u001b[0;32m----> 1\u001b[0;31m \u001b[0mx\u001b[0m\u001b[0;34m=\u001b[0m\u001b[0mcontents\u001b[0m\u001b[0;34m.\u001b[0m\u001b[0mindex\u001b[0m\u001b[0;34m(\u001b[0m\u001b[0;34m\"RX\"\u001b[0m\u001b[0;34m,\u001b[0m \u001b[0mignorecase\u001b[0m\u001b[0;34m)\u001b[0m\u001b[0;34m\u001b[0m\u001b[0;34m\u001b[0m\u001b[0m\n\u001b[0m",
      "\u001b[0;31mNameError\u001b[0m: name 'ignorecase' is not defined"
     ]
    }
   ],
   "source": [
    "x=contents.index(\"RX\", ignorecase)"
   ]
  },
  {
   "cell_type": "code",
   "execution_count": null,
   "metadata": {
    "id": "VVwFHfREqaZv"
   },
   "outputs": [],
   "source": [
    "if \"RX\" in contents:\n",
    "  pivot= \"RX\"\n",
    "\n",
    "if \"Rx\" in contents:\n",
    "  pivot= \"Rx\"\n",
    "\n",
    "if \"RX\" in contents:\n",
    "  pivot= \"RX\"\n",
    "\n",
    "if \"Prescription Number\" in contents:\n",
    "  pivot= \"Prescription Number\"\n",
    "\n",
    "x=contents.index(pivot)\n",
    "ok=contents[x:]\n",
    "temp=\"\"\n",
    "start=0\n",
    "for m in ok:\n",
    "  start=start+1\n",
    "  if m.isdigit():\n",
    "    temp=temp+m\n",
    "    if temp not in ok:\n",
    "      break\n",
    "print(temp[:-1])"
   ]
  },
  {
   "cell_type": "code",
   "execution_count": 49,
   "metadata": {
    "colab": {
     "base_uri": "https://localhost:8080/"
    },
    "id": "e9__3k2orUL7",
    "outputId": "40c6f9c5-0d89-428f-ffc0-1fafac007e6d"
   },
   "outputs": [
    {
     "name": "stdout",
     "output_type": "stream",
     "text": [
      "1: 132486481\n",
      "2: 64999\n",
      "3: 24126540\n",
      "4: 1820\n",
      "5: 11\n",
      "6: 1953336\n",
      "7: 8976320\n",
      "8: 136755477\n",
      "9: 2475235\n",
      "10: 202091814556\n",
      "11: 650540\n",
      "12: 7704\n",
      "13: 3\n",
      "14: 12\n",
      "15: 210280140357\n",
      "16: 211810970212\n",
      "17: 211431421156\n",
      "18: 8170000\n",
      "19: 470381432\n",
      "20: 1108\n",
      "21: 5565\n",
      "22: 6779352\n",
      "23: 211313189357\n",
      "24: 212873658112\n",
      "25: 6472130\n"
     ]
    }
   ],
   "source": [
    "for i in range(1,26):\n",
    "  with open(\"Document \"+str(i)+\"_OCR.txt\", encoding='cp1252') as infile:\n",
    "      x=0\n",
    "      contents = infile.read()\n",
    "      if \"RX\" in contents:\n",
    "        pivot= \"RX\"\n",
    "        x=contents.index(pivot)\n",
    "      elif \"Rx\" in contents:\n",
    "        pivot= \"Rx\"\n",
    "        x=contents.index(pivot)\n",
    "      elif \"RX\" in contents:\n",
    "        pivot= \"RX\"\n",
    "        x=contents.index(pivot)\n",
    "      elif \"Prescription Number\" in contents:\n",
    "        pivot= \"Prescription Number\"\n",
    "        x=contents.index(pivot)\n",
    "      else:\n",
    "        x=0\n",
    "      \n",
    "      ok=contents[x:]\n",
    "      temp=\"\"\n",
    "      start=0\n",
    "      for m in ok:\n",
    "        start=start+1\n",
    "        if m.isdigit():\n",
    "              temp=temp+m\n",
    "              if temp not in ok:\n",
    "                break\n",
    "      print(str(i)+\": \" +temp[:-1])\n",
    "\n",
    "\n",
    "\n",
    "      \n",
    "\n",
    "\n",
    "  \n",
    "      \n",
    "  \n",
    "\n",
    "\n",
    "\n",
    "\n",
    "\n",
    "\n",
    "\n",
    "      \n",
    "\n",
    "  "
   ]
  },
  {
   "cell_type": "code",
   "execution_count": 31,
   "metadata": {
    "colab": {
     "base_uri": "https://localhost:8080/",
     "height": 165
    },
    "id": "S073JXcWgr8v",
    "outputId": "c887773c-00ca-4a33-aa47-d2651285da30"
   },
   "outputs": [
    {
     "ename": "ValueError",
     "evalue": "ignored",
     "output_type": "error",
     "traceback": [
      "\u001b[0;31m---------------------------------------------------------------------------\u001b[0m",
      "\u001b[0;31mValueError\u001b[0m                                Traceback (most recent call last)",
      "\u001b[0;32m<ipython-input-31-3cf787fe9026>\u001b[0m in \u001b[0;36m<module>\u001b[0;34m()\u001b[0m\n\u001b[0;32m----> 1\u001b[0;31m \u001b[0mx\u001b[0m\u001b[0;34m=\u001b[0m\u001b[0mcontents\u001b[0m\u001b[0;34m.\u001b[0m\u001b[0mindex\u001b[0m\u001b[0;34m(\u001b[0m\u001b[0;34m\"Prescription Number\"\u001b[0m\u001b[0;34m)\u001b[0m\u001b[0;34m\u001b[0m\u001b[0;34m\u001b[0m\u001b[0m\n\u001b[0m",
      "\u001b[0;31mValueError\u001b[0m: substring not found"
     ]
    }
   ],
   "source": [
    "x=contents.index(\"Prescription Number\")"
   ]
  },
  {
   "cell_type": "code",
   "execution_count": 24,
   "metadata": {
    "colab": {
     "base_uri": "https://localhost:8080/"
    },
    "id": "VeQQwyiLa3pi",
    "outputId": "c2ca04e1-c5ec-4369-a4d7-43d31514c2fe"
   },
   "outputs": [
    {
     "data": {
      "text/plain": [
       "305"
      ]
     },
     "execution_count": 24,
     "metadata": {},
     "output_type": "execute_result"
    }
   ],
   "source": [
    "x"
   ]
  },
  {
   "cell_type": "code",
   "execution_count": 32,
   "metadata": {
    "id": "fA7JAG0Fb7cM"
   },
   "outputs": [],
   "source": [
    "ok=contents[x:]"
   ]
  },
  {
   "cell_type": "code",
   "execution_count": 33,
   "metadata": {
    "colab": {
     "base_uri": "https://localhost:8080/",
     "height": 140
    },
    "id": "zqpAUc1GcB4F",
    "outputId": "f3ef95ab-4d92-4014-d9d8-c47d2563181f"
   },
   "outputs": [
    {
     "data": {
      "application/vnd.google.colaboratory.intrinsic+json": {
       "type": "string"
      },
      "text/plain": [
       "'RX Number______Med Qty Medication Name____________________ NDC Number______ KP Retail_______Your Price\\n\\n1820 1281 1143 180\\n\\nISENTRESS 400 MG TABLET\\n\\n00006022761\\n\\n$5,596.61 F $40,00\\n\\n1820 1281 1142 180\\n\\nRITONAVIR 100 MG TABLET\\n\\n00054040713\\n\\n$188.18 F $10.00\\n\\n1820 1281 1145 90\\n\\nDESCOVY 200 MG-25 MG TABLET 61958200201\\n\\n$5,577.44 F $40.00\\n\\n1820 1281 1150 180\\n\\n/^PREZISTA>00 MG TABLET a|n|n^ |tems wi|| be shipped separately\\n\\n59676056201\\n\\n$5,701.46 F $40.00\\n\\nPayment Type PAYMENT CARD\\n\\nCardType MC\\n\\nCard# ExpDate 6165\\n\\nTransaction ID 210927115958\\n\\nAuth# 46749S\\n\\nTransType Purchase\\n\\nAmount $140.00\\n\\nCheck out online features available by signing on to kp.org\\n· Check order status and track delivery: 24 hrs day: kp.org/refills or via our mobile app\\n· Go paperless: Get health documents on-line: Set your preferences at kp.org/paperless\\n· Get notifications: Sign up for text or email messages: Update notification preferences at checkout at kp.org/refiils\\nGet your COVID-19 vaccine to help protect yourself and your loved ones. Visit kp.org or call our appointment center today.\\n\\nTotal Prescription Price: Sales Tax:\\nShipping Cost:\\nYour Order Total: Payment Balance Due:\\n\\n$130.00 $0.00\\n$0.00\\n$130.00 $0.00\\n\\nAll Prescription Sales are Final Unopened Over the Counter .terns may be returned for refunds within 30 days with original receipt.\\nPharmacy Consultation Telephone Service The Kaiser Foundation Mail Order Pharmacy provides prescnption consultation service to all our patients You have the ngh! to request consultation on your prescriptions. To request a consultation with a pharmacist concerning your medications, please call the pharmacy at 1 866 206 2983.\\nCall your doctor for medical advice about side effects You may report your side effects to FDA at 1-800-FDA-1088\\nQuestions regarding the integrity of your package or medication, please contact us at 1 -866-206-2983 or Member Services\\nA less expensive alternative may be available to you. Please ask your pharmacist.\\nIf you wish to cancel your order, please contact us immediately. You can contact us by phone referencing the order in question. We recommend calling us right away to cancel an order. We can cancel most orders up until it has been processed pnor to shipping.\\nF» Health Flexible Spending Card Eligible. Item may be eligible to be applied to Healthcare Spending Card Account Save this receipt and check your plan for details\\nThank you lor using the Kaiser Permanente Mail Order Pharmacy.\\n\\n277672312L\\n\\nPage: 1 of 1\\n\\nV.9.4\\n\\n\\x0cRemove Watermark\\n\\nWondershare PDFelement\\n\\nKaiser Permanente Mail Order Pharmacy\\n9521 Dalen Street, Downey. CA 90242\\n(866) 206-2983 7am - 7pm Monday - Friday,10am - 2pm Saturday\\n\\nRICHARD RODER 4417 CLAYFORD ST SAN DIEGO. CA 92117\\nORDER:26568278919 9\\'29 21 08:30 PM\\n\\nName: Richard Roder\\n\\nMedical Record Number: \"\"\"\"·\"·*2442\\n\\nRX Number______Med Qty J^edicaiion Name____________________ NDC Number______ KP Retail_______Your Price\\n\\n1820 1281 1146 180 £jNTELENCE^00 MG TABLET\\n\\n59676057101\\n\\n$4,632.62 F $40.00\\n\\nRemajnjng items w||| be shipped separately........................ *«***«*»\\n\\nPayment Type PAYMENT CARD\\n\\nCardType Card# ExpDate TransactionlD\\n\\nMC\\n\\n6165\\n\\n\"\\n\\n210927115958\\n\\nAuth# 46749S\\n\\nTransType Purchase\\n\\nAmount $170.00\\n\\nCheck out online features available by signing on to kp.org\\n· Check order status and track delivery: 24 hrs/day: kp.org/refills or via our mobile app\\n· Go paperless: Get health documents on-line: Set your preferences at kp.org/paperless\\n· Get notifications: Sign up for text or email messages: Update notification preferences at checkout at kp.org refills\\nGet your COVID-19 vaccine to help protect yourself and your loved ones. Visit kp.org or call our appointment center today.\\n\\nTotal Prescription Price: Sales Tax:\\nShipping Cost:\\nYour Order Total: Payment Balance Due:\\n\\n$40.00 $0.00\\n$0.00\\n$40.00 $0.00\\n\\nAll Prescription Sales are Pinal. Uncoer.ed Over-the-Counter items may be returned tor refunds within 30 days with onqinal receipt.\\nPharmacy Consultatror Telephone Service The Kaiser Foundation Mail Order Pharmacy provides prescription consultation service to all our patients You have the right to request consultaton on your prescriptions To request a consultation with a pharmacist concerning you\\' medications, please call the pharmacy at \\' -866 206-2983\\nCall your doctor for medical advice about side effects You may report your side effects to FDA at 1 800-FDA 1088.\\nQuestions regarding the integrity of your package or medication, please contact us at 1-866-206-2983 or Member Se-vices\\nA less expensive alternative may be available to you Please ask your pharmacist.\\nII you wish to cancel your order, please contact us immediately You can contact us by phone referencing the cider in quest-on. We recommend calling us right away to cancel an order. We can cancel most orders up until it has been processed prior to shipping.\\nF- Health Flexible Spending Card Eligible Item may be eligible to be applied to Healthcare Spending Card Account Save this receipt and check your plan (or deta ls\\nThank you for using the Kaiser Pe\\'manente Mai! Order Pharmacy\\n\\n277755596L\\n\\nPage: 1 of 1\\n\\nV.9.4\\n\\n\\x0c'"
      ]
     },
     "execution_count": 33,
     "metadata": {},
     "output_type": "execute_result"
    }
   ],
   "source": [
    "ok"
   ]
  },
  {
   "cell_type": "code",
   "execution_count": 38,
   "metadata": {
    "colab": {
     "base_uri": "https://localhost:8080/"
    },
    "id": "hiKYdTf_cHbX",
    "outputId": "7d663148-b642-4f0d-cf18-74b7edf58ad6"
   },
   "outputs": [
    {
     "name": "stdout",
     "output_type": "stream",
     "text": [
      "1820\n"
     ]
    }
   ],
   "source": [
    "temp=\"\"\n",
    "start=0\n",
    "for m in ok:\n",
    "  start=start+1\n",
    "  if m.isdigit():\n",
    "    temp=temp+m\n",
    "    if temp not in ok:\n",
    "      break\n",
    "print(temp[:-1])"
   ]
  },
  {
   "cell_type": "code",
   "execution_count": null,
   "metadata": {
    "id": "nZT-FEUIduvt"
   },
   "outputs": [],
   "source": []
  }
 ],
 "metadata": {
  "colab": {
   "name": "Rx Extractor_v2.ipynb",
   "provenance": []
  },
  "kernelspec": {
   "display_name": "Python 3",
   "language": "python",
   "name": "python3"
  },
  "language_info": {
   "codemirror_mode": {
    "name": "ipython",
    "version": 3
   },
   "file_extension": ".py",
   "mimetype": "text/x-python",
   "name": "python",
   "nbconvert_exporter": "python",
   "pygments_lexer": "ipython3",
   "version": "3.7.6"
  }
 },
 "nbformat": 4,
 "nbformat_minor": 1
}
