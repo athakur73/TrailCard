{
 "cells": [
  {
   "cell_type": "code",
   "execution_count": 1,
   "id": "06238f77",
   "metadata": {},
   "outputs": [],
   "source": [
    "import re"
   ]
  },
  {
   "cell_type": "code",
   "execution_count": 2,
   "id": "a5169e10",
   "metadata": {},
   "outputs": [
    {
     "data": {
      "text/plain": [
       "'\\nPatient First Name: William\\nPatient Last Name: Hicks\\nRx#: 210280140357\\nDrug Name: INVOKANA TABS\\nNDC: 50458-0141-90\\nFilled date: 09/16/2021\\nDay supply: \\nQuantity: 90\\nAmount:\\nPrimary Paid Amount:\\nCopay: $120.00\\n'"
      ]
     },
     "execution_count": 2,
     "metadata": {},
     "output_type": "execute_result"
    }
   ],
   "source": [
    "'''\n",
    "Patient First Name: William\n",
    "Patient Last Name: Hicks\n",
    "Rx#: 210280140357\n",
    "Drug Name: INVOKANA TABS\n",
    "NDC: 50458-0141-90\n",
    "Filled date: 09/16/2021\n",
    "Day supply: \n",
    "Quantity: 90\n",
    "Amount:\n",
    "Primary Paid Amount:\n",
    "Copay: $120.00\n",
    "'''"
   ]
  },
  {
   "cell_type": "code",
   "execution_count": 7,
   "id": "20d537a2",
   "metadata": {},
   "outputs": [],
   "source": [
    "import nltk\n",
    "from nltk.corpus import stopwords\n",
    "import re\n",
    "import os\n",
    "\n",
    "\n",
    "stopwords = stopwords.words('english')\n",
    "path = 'D:\\Pycharm_Projects_2\\Trialcard\\sohith_docs\\Text files'\n",
    "dir_list = os.listdir(path)\n",
    "\n",
    "dir_list = sorted(dir_list, key=lambda x: int(x.split(' ')[-1].split('_')[0]))\n",
    "\n",
    "data = dict()\n",
    "for file in dir_list:\n",
    "    mx = ''\n",
    "    with open(path+'/'+file,'r') as fd: \n",
    "        mx = fd.read()\n",
    "    mx = mx.replace('\\n\\n',' ')\n",
    "    mx = mx.replace('\\n',' ')\n",
    "    res = []\n",
    "    for x in mx.split():\n",
    "        st = ' '.join([w for w in x.split() if w not in stopwords])\n",
    "        res.append(st)\n",
    "    data[file.split(' ')[-1].split('_')[0]] = ' '.join(res)"
   ]
  },
  {
   "cell_type": "code",
   "execution_count": 8,
   "id": "7127d981",
   "metadata": {},
   "outputs": [
    {
     "data": {
      "text/plain": [
       "'Remove Watermark Wondershare PDFelement WAITING GR Promised: 8/14/21. 10:24 AM # Scripts: 01 271953336007001000015888 27 1953336 007 001 00 0015888 Gross, Margaret 105 Brown Street Suite 200 Tecumseh. Ml DOB 9 53 TEL: (517) 902-1370 Prescription Information www cvs convorugmfo £e <mz> ODACTRA 12 SQ-HDM SL TABLET   zn MIDDAY Place 1 tablet   tongue  daily. Revisit needed  additional refills. NOIll EVENING (L BEDTIME  PHARMACY see back lor  information  tongue. Do  chew  swallow whole. - Do  eat  drink anything  5 minutes  taking  medication. - Wash hands  use - Save time  Ready Fill  well   refills ready  you. Ask  enrolling today! Receipt & Refill Information CVS Pharmacy 807 West Cn-cago Biv Tecumseh Mi 49286 store®: 8025ODACTRA 12 SQ-HDM SL TABLET STORE TEL: (517) 423-6676 RX: 1953336 07 INSURANCE INFORMATION: PDP BN610011 PNCTRXMEDD TP24-4C SftSGWPSOM wr* 21226329226703699? NDC: 52709-1701-03 QTY: 30 EA DAW:0 CAP: Safety MFR PKG: Yes RETAIL PRICE:$388 99 REFILL: 4  11/17/21 MFR ALK-ABELLO. INC PRSCBR: Georgiana Sanders DAYS SUPPLY: 30 DATE FILLED: 8/14/21 AMOUNT DUE $158.88 Notes   Pharmacy ,, ,,n7| This medication   regularly stocked   pharmacy. To   Fix ready IIlIli1|r  | ontime\\'p|easerefil1 twobusinessdays  advance  need date. For  \"4 J information please contact  I pharmacy. VCVS pharmacy OPEN HERE ^CVS pharmacy 807 UIESI CHICAGO BLVD TECUMSEH. MI \"19286 517 923 6676 REG#19 TRNU6828 CSHR#1925996 STR88025 Helped  ANNA Fl RX #: **<*3360070 158 88N Survey ID # 7253 3211 7397 712 05 TOTAL CHARGE *»*****»*<*2946 158 88 158 88 Rf CHASE VISA ******* «*«*294b APPROvFD# 067710 REF# 198282 TRAN TYPE SALE AIL - r WOuOGOSIOlO IC. 62DCCE37R26ED775 NO SIGNATURE rtquxij I. . NAi# 8V23007 CV.lt. 1F0000 TVK95): C \\' < COCOO TSK9B? 0000 CHANGE 00 350802512286828194 3508 0251 2286 8281 94 State law may prohibit  return  prescripfions. Please consult  pharmacist. receipt, subject  CVS Return Policy, thru 10/15/2021 Refund amount  based  price   coupons  discounts AUGUST 16, 2021 O O O O O O O 2 15 PM '"
      ]
     },
     "execution_count": 8,
     "metadata": {},
     "output_type": "execute_result"
    }
   ],
   "source": [
    "data['6']"
   ]
  },
  {
   "cell_type": "markdown",
   "id": "ac6d393a",
   "metadata": {},
   "source": [
    "## Using spacy PhaseMatcher for extracting name:"
   ]
  },
  {
   "cell_type": "code",
   "execution_count": 9,
   "id": "8e8cd8db",
   "metadata": {},
   "outputs": [],
   "source": [
    "import spacy\n",
    "# !python -m spacy download en\n",
    "nlp = spacy.load('en_core_web_sm')"
   ]
  },
  {
   "cell_type": "code",
   "execution_count": 10,
   "id": "775c5b1a",
   "metadata": {},
   "outputs": [
    {
     "name": "stdout",
     "output_type": "stream",
     "text": [
      "KATHLEEN A. MCGRAW\n"
     ]
    }
   ],
   "source": [
    "import spacy\n",
    "from spacy.matcher import PhraseMatcher\n",
    "from nltk.corpus import words\n",
    "import re\n",
    "\n",
    "from transformers import AutoTokenizer, AutoModelForTokenClassification\n",
    "\n",
    "from transformers import pipeline\n",
    "\n",
    "tokenizer = AutoTokenizer.from_pretrained(\"dslim/bert-base-NER\")\n",
    "\n",
    "model = AutoModelForTokenClassification.from_pretrained(\"dslim/bert-base-NER\")\n",
    "\n",
    "nlp_hf = pipeline(\"ner\", model=model, tokenizer=tokenizer)\n",
    "\n",
    "nlp_1 = spacy.load(\"en_core_web_sm\")\n",
    "nlp_2 = spacy.load(\"en_core_web_trf\")\n",
    "\n",
    "eng_dict_words = set(words.words())\n",
    "eng_dict_words.add('oniine')\n",
    "\n",
    "def ner_detect_spacy_and_hugging_face(text):                         \n",
    "    \n",
    "    \n",
    "    #spacy\n",
    "    \n",
    "    text = text.replace(',','')\n",
    "    sents = nlp_1(text)\n",
    "\n",
    "    names_list_1 = []\n",
    "    \n",
    "    for entity in sents.ents:\n",
    "        if entity.label_ == 'PERSON':\n",
    "            # print('spacy persons',str(entity))\n",
    "            # check if word in dict, removing last char to account for plural\n",
    "            if (not all(( ((w in eng_dict_words) or (w.rstrip('s') in eng_dict_words)) for w in re.sub(r'[^\\w\\s]','',str(entity).lower()).split())) and (not any(char.isdigit() for char in str(entity)))):\n",
    "                  if 14>max([len(m) for m in str(entity).split()])>3: # length of name limt\n",
    "                    names_list_1.append(str(entity))\n",
    "    \n",
    "    sents = nlp_2(text)\n",
    "    names_list_2 = []\n",
    "    \n",
    "    for entity in sents.ents:\n",
    "        if entity.label_ == 'PERSON':\n",
    "            # print('spacy persons',str(entity))\n",
    "            # check if word in dict, removing last char to account for plural\n",
    "            if (not all(( ((w in eng_dict_words) or (w.rstrip('s') in eng_dict_words)) for w in re.sub(r'[^\\w\\s]','',str(entity).lower()).split())) and (not any(char.isdigit() for char in str(entity)))):\n",
    "              if 14>max([len(m) for m in str(entity).split()])>3: # length of name limt\n",
    "                    names_list_2.append(str(entity))\n",
    "                    \n",
    "    \n",
    "    # hugging face transformers\n",
    "    names_list_3= []\n",
    "    \n",
    "    list_words = text.split()\n",
    "    ner_results = nlp_hf(text)\n",
    "    for i in range(len(ner_results)):\n",
    "        if ner_results[i]['score']>0.65:\n",
    "            k= ner_results[i]['entity'] == 'I-PER' or ner_results[i]['entity'] == 'B-PER'\n",
    "            if k==True:\n",
    "              names_list_3.append(ner_results[i]['word'])\n",
    "    \n",
    "    \n",
    "    # combine all the lists\n",
    "    names_list = []\n",
    "    for indd in range(max(len(names_list_1),len(names_list_2),len(names_list_3))):\n",
    "        if indd<len(names_list_1):\n",
    "            names_list.append(names_list_1[indd])\n",
    "        \n",
    "        if indd<len(names_list_2):\n",
    "            names_list.append(names_list_2[indd])\n",
    "            \n",
    "        if indd<len(names_list_3):\n",
    "            names_list.append(names_list_3[indd])\n",
    "                    \n",
    "    \n",
    "    # post processing the lists\n",
    "           \n",
    "    found_names =[]\n",
    "    for name in names_list: # name assumed to be the first two-word string\n",
    "        if len(name.split())>1:\n",
    "            found_names.append(name)\n",
    "    \n",
    "    if not found_names:\n",
    "        # regex for all caps words\n",
    "        matches = re.findall(r\"([A-Z]+\\s?[A-Z]+[^a-z0-9\\W])\",text)\n",
    "        for match in matches:\n",
    "            if len(match.split())>1:\n",
    "                if not all(m in eng_dict_words for m in match.lower().split()): # must not be both english words\n",
    "                    if 14>max([len(m) for m in match.split()])>3: # at leaset one four letter word\n",
    "                        found_names.append(match)\n",
    "                        \n",
    "    # filter some names\n",
    "    found_names_filtered = found_names.copy()\n",
    "    for name in found_names:\n",
    "        for word in name.split():\n",
    "            if ('tab' in word.lower()) or ('invoice' in word.lower()):\n",
    "                found_names_filtered.remove(name)\n",
    "    \n",
    "    return found_names_filtered\n",
    "\n",
    "\n",
    "\n",
    "for i in range(1,26):\n",
    "    if i!=1:\n",
    "        continue\n",
    "    if(i not in [10,25]):\n",
    "        #print('i',i)\n",
    "        names = ner_detect_spacy_and_hugging_face(data[str(i)])\n",
    "        print(names[0])\n",
    "    else:\n",
    "        print('')\n",
    "        \n",
    "        \n",
    "        \n",
    "        "
   ]
  },
  {
   "cell_type": "code",
   "execution_count": null,
   "id": "2ca24d7b",
   "metadata": {},
   "outputs": [],
   "source": []
  }
 ],
 "metadata": {
  "kernelspec": {
   "display_name": "Python 3",
   "language": "python",
   "name": "python3"
  },
  "language_info": {
   "codemirror_mode": {
    "name": "ipython",
    "version": 3
   },
   "file_extension": ".py",
   "mimetype": "text/x-python",
   "name": "python",
   "nbconvert_exporter": "python",
   "pygments_lexer": "ipython3",
   "version": "3.7.6"
  }
 },
 "nbformat": 4,
 "nbformat_minor": 5
}
